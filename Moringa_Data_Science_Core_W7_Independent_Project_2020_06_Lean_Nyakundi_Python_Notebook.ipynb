{
  "nbformat": 4,
  "nbformat_minor": 0,
  "metadata": {
    "colab": {
      "name": "Moringa_Data_Science_Core_W7_Independent_Project_2020_06_Lean_Nyakundi_Python_Notebook",
      "provenance": [],
      "collapsed_sections": [
        "kLG2VTrnTvYL",
        "XecOwPNorl2W",
        "J4wfHZwQrs-t",
        "a9BPYqunry97",
        "7KMRBJ7zr9HD",
        "zSGyg6kWsBUl",
        "iUNbvIvnT7ep",
        "OI3P3YnHUEBk",
        "ckfufNrcUHeH",
        "6XC_g-zKxe-r",
        "FlBMxEDBUc9B",
        "rF2ABPsHUtbZ",
        "vTbdjSrhVIiT",
        "lQ2G4ZPDVOXE",
        "xrmHVMVsVS--",
        "HPQviDmNtta8",
        "qjFHK1CKty7o",
        "HSsicSdvt4Zs"
      ],
      "toc_visible": true
    },
    "kernelspec": {
      "name": "python3",
      "display_name": "Python 3"
    }
  },
  "cells": [
    {
      "cell_type": "markdown",
      "metadata": {
        "id": "xMxtPsqcTsSH",
        "colab_type": "text"
      },
      "source": [
        "# HASS CONSULTANCY - PREDICTION OF HOUSE PRICE"
      ]
    },
    {
      "cell_type": "markdown",
      "metadata": {
        "id": "kLG2VTrnTvYL",
        "colab_type": "text"
      },
      "source": [
        "## 1. Defining the Question"
      ]
    },
    {
      "cell_type": "markdown",
      "metadata": {
        "id": "XecOwPNorl2W",
        "colab_type": "text"
      },
      "source": [
        "###  Specifying the Question"
      ]
    },
    {
      "cell_type": "markdown",
      "metadata": {
        "id": "8l3-hBO6bODP",
        "colab_type": "text"
      },
      "source": [
        "\n",
        "> I have been working for Hass Consulting Company, which is a real estate leader with over 25 years of experience, as a Data Scientist. I have been tasked to study the factors that affect housing prices using the given information on real estate properties that was collected over the past few months. I will then create a model that would allow the company to accurately predict the sale of prices upon being provided with the predictor variables. \n",
        "\n",
        "\n",
        "\n"
      ]
    },
    {
      "cell_type": "markdown",
      "metadata": {
        "id": "J4wfHZwQrs-t",
        "colab_type": "text"
      },
      "source": [
        "###  Defining the Metric for Success"
      ]
    },
    {
      "cell_type": "markdown",
      "metadata": {
        "id": "T3j4wRnDbREM",
        "colab_type": "text"
      },
      "source": [
        "The metric for success for this project include:\n",
        "\n",
        "* Identifying the features that have more effect to the independent variable\n",
        "\n",
        "* Identifying the best parameters to use to maximize on accuracy\n",
        "\n",
        "* Create a model that will have the most accurate prediction and the lowest MSE "
      ]
    },
    {
      "cell_type": "markdown",
      "metadata": {
        "id": "a9BPYqunry97",
        "colab_type": "text"
      },
      "source": [
        "###  Understanding the context "
      ]
    },
    {
      "cell_type": "markdown",
      "metadata": {
        "id": "8hW9pZYlf8mg",
        "colab_type": "text"
      },
      "source": [
        "> Hass Consult is an award winning real estate leader with over 25 years of experience. We offer a personalized touch and keen attention to client needs, we have curved out a niche in the market as the trendsetters and benchmark for the real estate industry, and continue to bring a global touch to the Kenyan market emerging as a real estate market leader in this developing country where real estate still remains one of the most lucrative investments."
      ]
    },
    {
      "cell_type": "markdown",
      "metadata": {
        "id": "7KMRBJ7zr9HD",
        "colab_type": "text"
      },
      "source": [
        "###  Recording the Experimental Design"
      ]
    },
    {
      "cell_type": "markdown",
      "metadata": {
        "id": "9-GAIouftU5V",
        "colab_type": "text"
      },
      "source": [
        "> The Dataset in this project is fifa.ranking.csv and results.csv\n",
        "\n",
        "> The design for this project will include:\n",
        "\n",
        ">> * Perform your EDA\n",
        ">> * Perform any necessary feature engineering\n",
        ">> * Check of multicollinearity\n",
        ">> * Multiple Linear Regression\n",
        ">> * Quantile Regression\n",
        ">> * Ridge Regression\n",
        ">> * Lasso Regression\n",
        ">> * Elastic Net Regression\n",
        ">> * Cross-validate the model\n",
        ">> * Compute MSE\n",
        ">> * Create residual plots for your models, and assess their heteroscedasticity using Bartlett’s test"
      ]
    },
    {
      "cell_type": "markdown",
      "metadata": {
        "id": "zSGyg6kWsBUl",
        "colab_type": "text"
      },
      "source": [
        "###  Data Relevance"
      ]
    },
    {
      "cell_type": "markdown",
      "metadata": {
        "id": "Gf_izDiBtTSa",
        "colab_type": "text"
      },
      "source": [
        "The relavance of our data will be answered by the following questions.\n",
        "\n",
        "* How accurate is the data at predicting the outcome of the games?\n",
        "\n",
        "* Was the dataset sufficient?\n",
        "\n",
        "* Was the data biased?\n",
        "\n",
        "* Is the data source a reliable source?"
      ]
    },
    {
      "cell_type": "markdown",
      "metadata": {
        "id": "iUNbvIvnT7ep",
        "colab_type": "text"
      },
      "source": [
        "## 2. Reading the Data"
      ]
    },
    {
      "cell_type": "code",
      "metadata": {
        "id": "Zql_5gpqukcA",
        "colab_type": "code",
        "colab": {}
      },
      "source": [
        "# Importing the necessary libraries\n",
        "\n",
        "import pandas as pd\n",
        "import numpy as np\n",
        "import matplotlib.pyplot as plt\n",
        "import seaborn as sns\n",
        "from sklearn.model_selection import train_test_split\n",
        "from sklearn.linear_model import LinearRegression\n",
        "from sklearn import linear_model\n",
        "import statsmodels.formula.api as smf\n",
        "from sklearn.model_selection import GridSearchCV\n",
        "from sklearn.linear_model import Ridge\n",
        "from sklearn.metrics import mean_squared_error\n",
        "import warnings\n",
        "from sklearn.linear_model import ElasticNet\n",
        "from scipy import stats\n",
        "from sklearn.preprocessing import StandardScaler\n",
        "import scipy as sp"
      ],
      "execution_count": 0,
      "outputs": []
    },
    {
      "cell_type": "code",
      "metadata": {
        "id": "XJn2KjW-WMlG",
        "colab_type": "code",
        "colab": {}
      },
      "source": [
        "# Loading the Dataset\n",
        "# Dataset url = http://bit.ly/IndependentProjectWeek7Dataset \n",
        "#\n",
        "house = pd.read_csv('http://bit.ly/IndependentProjectWeek7Dataset')\n"
      ],
      "execution_count": 0,
      "outputs": []
    },
    {
      "cell_type": "markdown",
      "metadata": {
        "id": "OI3P3YnHUEBk",
        "colab_type": "text"
      },
      "source": [
        "## 3. Checking the Data"
      ]
    },
    {
      "cell_type": "code",
      "metadata": {
        "id": "YjSVNwgptHxY",
        "colab_type": "code",
        "colab": {
          "base_uri": "https://localhost:8080/",
          "height": 34
        },
        "outputId": "6b469288-2d26-40ed-c359-33dea10b6946"
      },
      "source": [
        "# Determining the no. of records in our dataset\n",
        "#\n",
        "house.shape"
      ],
      "execution_count": 139,
      "outputs": [
        {
          "output_type": "execute_result",
          "data": {
            "text/plain": [
              "(21613, 20)"
            ]
          },
          "metadata": {
            "tags": []
          },
          "execution_count": 139
        }
      ]
    },
    {
      "cell_type": "code",
      "metadata": {
        "id": "xHhTw5eKWr0n",
        "colab_type": "code",
        "colab": {
          "base_uri": "https://localhost:8080/",
          "height": 215
        },
        "outputId": "32169b65-087e-4f4c-994c-2753d7da3439"
      },
      "source": [
        "# Previewing the top of our dataset\n",
        "#\n",
        "house.head()"
      ],
      "execution_count": 140,
      "outputs": [
        {
          "output_type": "execute_result",
          "data": {
            "text/html": [
              "<div>\n",
              "<style scoped>\n",
              "    .dataframe tbody tr th:only-of-type {\n",
              "        vertical-align: middle;\n",
              "    }\n",
              "\n",
              "    .dataframe tbody tr th {\n",
              "        vertical-align: top;\n",
              "    }\n",
              "\n",
              "    .dataframe thead th {\n",
              "        text-align: right;\n",
              "    }\n",
              "</style>\n",
              "<table border=\"1\" class=\"dataframe\">\n",
              "  <thead>\n",
              "    <tr style=\"text-align: right;\">\n",
              "      <th></th>\n",
              "      <th>id</th>\n",
              "      <th>price</th>\n",
              "      <th>bedrooms</th>\n",
              "      <th>bathrooms</th>\n",
              "      <th>sqft_living</th>\n",
              "      <th>sqft_lot</th>\n",
              "      <th>floors</th>\n",
              "      <th>waterfront</th>\n",
              "      <th>view</th>\n",
              "      <th>condition</th>\n",
              "      <th>grade</th>\n",
              "      <th>sqft_above</th>\n",
              "      <th>sqft_basement</th>\n",
              "      <th>yr_built</th>\n",
              "      <th>yr_renovated</th>\n",
              "      <th>zipcode</th>\n",
              "      <th>lat</th>\n",
              "      <th>long</th>\n",
              "      <th>sqft_living15</th>\n",
              "      <th>sqft_lot15</th>\n",
              "    </tr>\n",
              "  </thead>\n",
              "  <tbody>\n",
              "    <tr>\n",
              "      <th>0</th>\n",
              "      <td>7129300520</td>\n",
              "      <td>221900.0</td>\n",
              "      <td>3</td>\n",
              "      <td>1.00</td>\n",
              "      <td>1180</td>\n",
              "      <td>5650</td>\n",
              "      <td>1.0</td>\n",
              "      <td>0</td>\n",
              "      <td>0</td>\n",
              "      <td>3</td>\n",
              "      <td>7</td>\n",
              "      <td>1180</td>\n",
              "      <td>0</td>\n",
              "      <td>1955</td>\n",
              "      <td>0</td>\n",
              "      <td>98178</td>\n",
              "      <td>47.5112</td>\n",
              "      <td>-122.257</td>\n",
              "      <td>1340</td>\n",
              "      <td>5650</td>\n",
              "    </tr>\n",
              "    <tr>\n",
              "      <th>1</th>\n",
              "      <td>6414100192</td>\n",
              "      <td>538000.0</td>\n",
              "      <td>3</td>\n",
              "      <td>2.25</td>\n",
              "      <td>2570</td>\n",
              "      <td>7242</td>\n",
              "      <td>2.0</td>\n",
              "      <td>0</td>\n",
              "      <td>0</td>\n",
              "      <td>3</td>\n",
              "      <td>7</td>\n",
              "      <td>2170</td>\n",
              "      <td>400</td>\n",
              "      <td>1951</td>\n",
              "      <td>1991</td>\n",
              "      <td>98125</td>\n",
              "      <td>47.7210</td>\n",
              "      <td>-122.319</td>\n",
              "      <td>1690</td>\n",
              "      <td>7639</td>\n",
              "    </tr>\n",
              "    <tr>\n",
              "      <th>2</th>\n",
              "      <td>5631500400</td>\n",
              "      <td>180000.0</td>\n",
              "      <td>2</td>\n",
              "      <td>1.00</td>\n",
              "      <td>770</td>\n",
              "      <td>10000</td>\n",
              "      <td>1.0</td>\n",
              "      <td>0</td>\n",
              "      <td>0</td>\n",
              "      <td>3</td>\n",
              "      <td>6</td>\n",
              "      <td>770</td>\n",
              "      <td>0</td>\n",
              "      <td>1933</td>\n",
              "      <td>0</td>\n",
              "      <td>98028</td>\n",
              "      <td>47.7379</td>\n",
              "      <td>-122.233</td>\n",
              "      <td>2720</td>\n",
              "      <td>8062</td>\n",
              "    </tr>\n",
              "    <tr>\n",
              "      <th>3</th>\n",
              "      <td>2487200875</td>\n",
              "      <td>604000.0</td>\n",
              "      <td>4</td>\n",
              "      <td>3.00</td>\n",
              "      <td>1960</td>\n",
              "      <td>5000</td>\n",
              "      <td>1.0</td>\n",
              "      <td>0</td>\n",
              "      <td>0</td>\n",
              "      <td>5</td>\n",
              "      <td>7</td>\n",
              "      <td>1050</td>\n",
              "      <td>910</td>\n",
              "      <td>1965</td>\n",
              "      <td>0</td>\n",
              "      <td>98136</td>\n",
              "      <td>47.5208</td>\n",
              "      <td>-122.393</td>\n",
              "      <td>1360</td>\n",
              "      <td>5000</td>\n",
              "    </tr>\n",
              "    <tr>\n",
              "      <th>4</th>\n",
              "      <td>1954400510</td>\n",
              "      <td>510000.0</td>\n",
              "      <td>3</td>\n",
              "      <td>2.00</td>\n",
              "      <td>1680</td>\n",
              "      <td>8080</td>\n",
              "      <td>1.0</td>\n",
              "      <td>0</td>\n",
              "      <td>0</td>\n",
              "      <td>3</td>\n",
              "      <td>8</td>\n",
              "      <td>1680</td>\n",
              "      <td>0</td>\n",
              "      <td>1987</td>\n",
              "      <td>0</td>\n",
              "      <td>98074</td>\n",
              "      <td>47.6168</td>\n",
              "      <td>-122.045</td>\n",
              "      <td>1800</td>\n",
              "      <td>7503</td>\n",
              "    </tr>\n",
              "  </tbody>\n",
              "</table>\n",
              "</div>"
            ],
            "text/plain": [
              "           id     price  bedrooms  ...     long  sqft_living15  sqft_lot15\n",
              "0  7129300520  221900.0         3  ... -122.257           1340        5650\n",
              "1  6414100192  538000.0         3  ... -122.319           1690        7639\n",
              "2  5631500400  180000.0         2  ... -122.233           2720        8062\n",
              "3  2487200875  604000.0         4  ... -122.393           1360        5000\n",
              "4  1954400510  510000.0         3  ... -122.045           1800        7503\n",
              "\n",
              "[5 rows x 20 columns]"
            ]
          },
          "metadata": {
            "tags": []
          },
          "execution_count": 140
        }
      ]
    },
    {
      "cell_type": "code",
      "metadata": {
        "id": "e9AzGcZFrIIr",
        "colab_type": "code",
        "colab": {
          "base_uri": "https://localhost:8080/",
          "height": 215
        },
        "outputId": "dae67eaa-aeac-4ee1-fb9b-7c0a60fa3c51"
      },
      "source": [
        "# Previewing the bottom of our dataset\n",
        "# \n",
        "house.tail()"
      ],
      "execution_count": 141,
      "outputs": [
        {
          "output_type": "execute_result",
          "data": {
            "text/html": [
              "<div>\n",
              "<style scoped>\n",
              "    .dataframe tbody tr th:only-of-type {\n",
              "        vertical-align: middle;\n",
              "    }\n",
              "\n",
              "    .dataframe tbody tr th {\n",
              "        vertical-align: top;\n",
              "    }\n",
              "\n",
              "    .dataframe thead th {\n",
              "        text-align: right;\n",
              "    }\n",
              "</style>\n",
              "<table border=\"1\" class=\"dataframe\">\n",
              "  <thead>\n",
              "    <tr style=\"text-align: right;\">\n",
              "      <th></th>\n",
              "      <th>id</th>\n",
              "      <th>price</th>\n",
              "      <th>bedrooms</th>\n",
              "      <th>bathrooms</th>\n",
              "      <th>sqft_living</th>\n",
              "      <th>sqft_lot</th>\n",
              "      <th>floors</th>\n",
              "      <th>waterfront</th>\n",
              "      <th>view</th>\n",
              "      <th>condition</th>\n",
              "      <th>grade</th>\n",
              "      <th>sqft_above</th>\n",
              "      <th>sqft_basement</th>\n",
              "      <th>yr_built</th>\n",
              "      <th>yr_renovated</th>\n",
              "      <th>zipcode</th>\n",
              "      <th>lat</th>\n",
              "      <th>long</th>\n",
              "      <th>sqft_living15</th>\n",
              "      <th>sqft_lot15</th>\n",
              "    </tr>\n",
              "  </thead>\n",
              "  <tbody>\n",
              "    <tr>\n",
              "      <th>21608</th>\n",
              "      <td>263000018</td>\n",
              "      <td>360000.0</td>\n",
              "      <td>3</td>\n",
              "      <td>2.50</td>\n",
              "      <td>1530</td>\n",
              "      <td>1131</td>\n",
              "      <td>3.0</td>\n",
              "      <td>0</td>\n",
              "      <td>0</td>\n",
              "      <td>3</td>\n",
              "      <td>8</td>\n",
              "      <td>1530</td>\n",
              "      <td>0</td>\n",
              "      <td>2009</td>\n",
              "      <td>0</td>\n",
              "      <td>98103</td>\n",
              "      <td>47.6993</td>\n",
              "      <td>-122.346</td>\n",
              "      <td>1530</td>\n",
              "      <td>1509</td>\n",
              "    </tr>\n",
              "    <tr>\n",
              "      <th>21609</th>\n",
              "      <td>6600060120</td>\n",
              "      <td>400000.0</td>\n",
              "      <td>4</td>\n",
              "      <td>2.50</td>\n",
              "      <td>2310</td>\n",
              "      <td>5813</td>\n",
              "      <td>2.0</td>\n",
              "      <td>0</td>\n",
              "      <td>0</td>\n",
              "      <td>3</td>\n",
              "      <td>8</td>\n",
              "      <td>2310</td>\n",
              "      <td>0</td>\n",
              "      <td>2014</td>\n",
              "      <td>0</td>\n",
              "      <td>98146</td>\n",
              "      <td>47.5107</td>\n",
              "      <td>-122.362</td>\n",
              "      <td>1830</td>\n",
              "      <td>7200</td>\n",
              "    </tr>\n",
              "    <tr>\n",
              "      <th>21610</th>\n",
              "      <td>1523300141</td>\n",
              "      <td>402101.0</td>\n",
              "      <td>2</td>\n",
              "      <td>0.75</td>\n",
              "      <td>1020</td>\n",
              "      <td>1350</td>\n",
              "      <td>2.0</td>\n",
              "      <td>0</td>\n",
              "      <td>0</td>\n",
              "      <td>3</td>\n",
              "      <td>7</td>\n",
              "      <td>1020</td>\n",
              "      <td>0</td>\n",
              "      <td>2009</td>\n",
              "      <td>0</td>\n",
              "      <td>98144</td>\n",
              "      <td>47.5944</td>\n",
              "      <td>-122.299</td>\n",
              "      <td>1020</td>\n",
              "      <td>2007</td>\n",
              "    </tr>\n",
              "    <tr>\n",
              "      <th>21611</th>\n",
              "      <td>291310100</td>\n",
              "      <td>400000.0</td>\n",
              "      <td>3</td>\n",
              "      <td>2.50</td>\n",
              "      <td>1600</td>\n",
              "      <td>2388</td>\n",
              "      <td>2.0</td>\n",
              "      <td>0</td>\n",
              "      <td>0</td>\n",
              "      <td>3</td>\n",
              "      <td>8</td>\n",
              "      <td>1600</td>\n",
              "      <td>0</td>\n",
              "      <td>2004</td>\n",
              "      <td>0</td>\n",
              "      <td>98027</td>\n",
              "      <td>47.5345</td>\n",
              "      <td>-122.069</td>\n",
              "      <td>1410</td>\n",
              "      <td>1287</td>\n",
              "    </tr>\n",
              "    <tr>\n",
              "      <th>21612</th>\n",
              "      <td>1523300157</td>\n",
              "      <td>325000.0</td>\n",
              "      <td>2</td>\n",
              "      <td>0.75</td>\n",
              "      <td>1020</td>\n",
              "      <td>1076</td>\n",
              "      <td>2.0</td>\n",
              "      <td>0</td>\n",
              "      <td>0</td>\n",
              "      <td>3</td>\n",
              "      <td>7</td>\n",
              "      <td>1020</td>\n",
              "      <td>0</td>\n",
              "      <td>2008</td>\n",
              "      <td>0</td>\n",
              "      <td>98144</td>\n",
              "      <td>47.5941</td>\n",
              "      <td>-122.299</td>\n",
              "      <td>1020</td>\n",
              "      <td>1357</td>\n",
              "    </tr>\n",
              "  </tbody>\n",
              "</table>\n",
              "</div>"
            ],
            "text/plain": [
              "               id     price  bedrooms  ...     long  sqft_living15  sqft_lot15\n",
              "21608   263000018  360000.0         3  ... -122.346           1530        1509\n",
              "21609  6600060120  400000.0         4  ... -122.362           1830        7200\n",
              "21610  1523300141  402101.0         2  ... -122.299           1020        2007\n",
              "21611   291310100  400000.0         3  ... -122.069           1410        1287\n",
              "21612  1523300157  325000.0         2  ... -122.299           1020        1357\n",
              "\n",
              "[5 rows x 20 columns]"
            ]
          },
          "metadata": {
            "tags": []
          },
          "execution_count": 141
        }
      ]
    },
    {
      "cell_type": "code",
      "metadata": {
        "id": "n8-dW4sQWzbc",
        "colab_type": "code",
        "colab": {
          "base_uri": "https://localhost:8080/",
          "height": 470
        },
        "outputId": "f6ee9f76-9a33-4b67-a0a8-045d4cfba03a"
      },
      "source": [
        "# Checking whether each column has an appropriate datatype\n",
        "#\n",
        "house.info()"
      ],
      "execution_count": 142,
      "outputs": [
        {
          "output_type": "stream",
          "text": [
            "<class 'pandas.core.frame.DataFrame'>\n",
            "RangeIndex: 21613 entries, 0 to 21612\n",
            "Data columns (total 20 columns):\n",
            " #   Column         Non-Null Count  Dtype  \n",
            "---  ------         --------------  -----  \n",
            " 0   id             21613 non-null  int64  \n",
            " 1   price          21613 non-null  float64\n",
            " 2   bedrooms       21613 non-null  int64  \n",
            " 3   bathrooms      21613 non-null  float64\n",
            " 4   sqft_living    21613 non-null  int64  \n",
            " 5   sqft_lot       21613 non-null  int64  \n",
            " 6   floors         21613 non-null  float64\n",
            " 7   waterfront     21613 non-null  int64  \n",
            " 8   view           21613 non-null  int64  \n",
            " 9   condition      21613 non-null  int64  \n",
            " 10  grade          21613 non-null  int64  \n",
            " 11  sqft_above     21613 non-null  int64  \n",
            " 12  sqft_basement  21613 non-null  int64  \n",
            " 13  yr_built       21613 non-null  int64  \n",
            " 14  yr_renovated   21613 non-null  int64  \n",
            " 15  zipcode        21613 non-null  int64  \n",
            " 16  lat            21613 non-null  float64\n",
            " 17  long           21613 non-null  float64\n",
            " 18  sqft_living15  21613 non-null  int64  \n",
            " 19  sqft_lot15     21613 non-null  int64  \n",
            "dtypes: float64(5), int64(15)\n",
            "memory usage: 3.3 MB\n"
          ],
          "name": "stdout"
        }
      ]
    },
    {
      "cell_type": "code",
      "metadata": {
        "id": "JJjfUWSpOyvA",
        "colab_type": "code",
        "colab": {
          "base_uri": "https://localhost:8080/",
          "height": 304
        },
        "outputId": "636b8f8f-a546-4f12-f699-8b52184faa33"
      },
      "source": [
        "house.describe()"
      ],
      "execution_count": 143,
      "outputs": [
        {
          "output_type": "execute_result",
          "data": {
            "text/html": [
              "<div>\n",
              "<style scoped>\n",
              "    .dataframe tbody tr th:only-of-type {\n",
              "        vertical-align: middle;\n",
              "    }\n",
              "\n",
              "    .dataframe tbody tr th {\n",
              "        vertical-align: top;\n",
              "    }\n",
              "\n",
              "    .dataframe thead th {\n",
              "        text-align: right;\n",
              "    }\n",
              "</style>\n",
              "<table border=\"1\" class=\"dataframe\">\n",
              "  <thead>\n",
              "    <tr style=\"text-align: right;\">\n",
              "      <th></th>\n",
              "      <th>id</th>\n",
              "      <th>price</th>\n",
              "      <th>bedrooms</th>\n",
              "      <th>bathrooms</th>\n",
              "      <th>sqft_living</th>\n",
              "      <th>sqft_lot</th>\n",
              "      <th>floors</th>\n",
              "      <th>waterfront</th>\n",
              "      <th>view</th>\n",
              "      <th>condition</th>\n",
              "      <th>grade</th>\n",
              "      <th>sqft_above</th>\n",
              "      <th>sqft_basement</th>\n",
              "      <th>yr_built</th>\n",
              "      <th>yr_renovated</th>\n",
              "      <th>zipcode</th>\n",
              "      <th>lat</th>\n",
              "      <th>long</th>\n",
              "      <th>sqft_living15</th>\n",
              "      <th>sqft_lot15</th>\n",
              "    </tr>\n",
              "  </thead>\n",
              "  <tbody>\n",
              "    <tr>\n",
              "      <th>count</th>\n",
              "      <td>2.161300e+04</td>\n",
              "      <td>2.161300e+04</td>\n",
              "      <td>21613.000000</td>\n",
              "      <td>21613.000000</td>\n",
              "      <td>21613.000000</td>\n",
              "      <td>2.161300e+04</td>\n",
              "      <td>21613.000000</td>\n",
              "      <td>21613.000000</td>\n",
              "      <td>21613.000000</td>\n",
              "      <td>21613.000000</td>\n",
              "      <td>21613.000000</td>\n",
              "      <td>21613.000000</td>\n",
              "      <td>21613.000000</td>\n",
              "      <td>21613.000000</td>\n",
              "      <td>21613.000000</td>\n",
              "      <td>21613.000000</td>\n",
              "      <td>21613.000000</td>\n",
              "      <td>21613.000000</td>\n",
              "      <td>21613.000000</td>\n",
              "      <td>21613.000000</td>\n",
              "    </tr>\n",
              "    <tr>\n",
              "      <th>mean</th>\n",
              "      <td>4.580302e+09</td>\n",
              "      <td>5.401822e+05</td>\n",
              "      <td>3.370842</td>\n",
              "      <td>2.114757</td>\n",
              "      <td>2079.899736</td>\n",
              "      <td>1.510697e+04</td>\n",
              "      <td>1.494309</td>\n",
              "      <td>0.007542</td>\n",
              "      <td>0.234303</td>\n",
              "      <td>3.409430</td>\n",
              "      <td>7.656873</td>\n",
              "      <td>1788.390691</td>\n",
              "      <td>291.509045</td>\n",
              "      <td>1971.005136</td>\n",
              "      <td>84.402258</td>\n",
              "      <td>98077.939805</td>\n",
              "      <td>47.560053</td>\n",
              "      <td>-122.213896</td>\n",
              "      <td>1986.552492</td>\n",
              "      <td>12768.455652</td>\n",
              "    </tr>\n",
              "    <tr>\n",
              "      <th>std</th>\n",
              "      <td>2.876566e+09</td>\n",
              "      <td>3.673622e+05</td>\n",
              "      <td>0.930062</td>\n",
              "      <td>0.770163</td>\n",
              "      <td>918.440897</td>\n",
              "      <td>4.142051e+04</td>\n",
              "      <td>0.539989</td>\n",
              "      <td>0.086517</td>\n",
              "      <td>0.766318</td>\n",
              "      <td>0.650743</td>\n",
              "      <td>1.175459</td>\n",
              "      <td>828.090978</td>\n",
              "      <td>442.575043</td>\n",
              "      <td>29.373411</td>\n",
              "      <td>401.679240</td>\n",
              "      <td>53.505026</td>\n",
              "      <td>0.138564</td>\n",
              "      <td>0.140828</td>\n",
              "      <td>685.391304</td>\n",
              "      <td>27304.179631</td>\n",
              "    </tr>\n",
              "    <tr>\n",
              "      <th>min</th>\n",
              "      <td>1.000102e+06</td>\n",
              "      <td>7.500000e+04</td>\n",
              "      <td>0.000000</td>\n",
              "      <td>0.000000</td>\n",
              "      <td>290.000000</td>\n",
              "      <td>5.200000e+02</td>\n",
              "      <td>1.000000</td>\n",
              "      <td>0.000000</td>\n",
              "      <td>0.000000</td>\n",
              "      <td>1.000000</td>\n",
              "      <td>1.000000</td>\n",
              "      <td>290.000000</td>\n",
              "      <td>0.000000</td>\n",
              "      <td>1900.000000</td>\n",
              "      <td>0.000000</td>\n",
              "      <td>98001.000000</td>\n",
              "      <td>47.155900</td>\n",
              "      <td>-122.519000</td>\n",
              "      <td>399.000000</td>\n",
              "      <td>651.000000</td>\n",
              "    </tr>\n",
              "    <tr>\n",
              "      <th>25%</th>\n",
              "      <td>2.123049e+09</td>\n",
              "      <td>3.219500e+05</td>\n",
              "      <td>3.000000</td>\n",
              "      <td>1.750000</td>\n",
              "      <td>1427.000000</td>\n",
              "      <td>5.040000e+03</td>\n",
              "      <td>1.000000</td>\n",
              "      <td>0.000000</td>\n",
              "      <td>0.000000</td>\n",
              "      <td>3.000000</td>\n",
              "      <td>7.000000</td>\n",
              "      <td>1190.000000</td>\n",
              "      <td>0.000000</td>\n",
              "      <td>1951.000000</td>\n",
              "      <td>0.000000</td>\n",
              "      <td>98033.000000</td>\n",
              "      <td>47.471000</td>\n",
              "      <td>-122.328000</td>\n",
              "      <td>1490.000000</td>\n",
              "      <td>5100.000000</td>\n",
              "    </tr>\n",
              "    <tr>\n",
              "      <th>50%</th>\n",
              "      <td>3.904930e+09</td>\n",
              "      <td>4.500000e+05</td>\n",
              "      <td>3.000000</td>\n",
              "      <td>2.250000</td>\n",
              "      <td>1910.000000</td>\n",
              "      <td>7.618000e+03</td>\n",
              "      <td>1.500000</td>\n",
              "      <td>0.000000</td>\n",
              "      <td>0.000000</td>\n",
              "      <td>3.000000</td>\n",
              "      <td>7.000000</td>\n",
              "      <td>1560.000000</td>\n",
              "      <td>0.000000</td>\n",
              "      <td>1975.000000</td>\n",
              "      <td>0.000000</td>\n",
              "      <td>98065.000000</td>\n",
              "      <td>47.571800</td>\n",
              "      <td>-122.230000</td>\n",
              "      <td>1840.000000</td>\n",
              "      <td>7620.000000</td>\n",
              "    </tr>\n",
              "    <tr>\n",
              "      <th>75%</th>\n",
              "      <td>7.308900e+09</td>\n",
              "      <td>6.450000e+05</td>\n",
              "      <td>4.000000</td>\n",
              "      <td>2.500000</td>\n",
              "      <td>2550.000000</td>\n",
              "      <td>1.068800e+04</td>\n",
              "      <td>2.000000</td>\n",
              "      <td>0.000000</td>\n",
              "      <td>0.000000</td>\n",
              "      <td>4.000000</td>\n",
              "      <td>8.000000</td>\n",
              "      <td>2210.000000</td>\n",
              "      <td>560.000000</td>\n",
              "      <td>1997.000000</td>\n",
              "      <td>0.000000</td>\n",
              "      <td>98118.000000</td>\n",
              "      <td>47.678000</td>\n",
              "      <td>-122.125000</td>\n",
              "      <td>2360.000000</td>\n",
              "      <td>10083.000000</td>\n",
              "    </tr>\n",
              "    <tr>\n",
              "      <th>max</th>\n",
              "      <td>9.900000e+09</td>\n",
              "      <td>7.700000e+06</td>\n",
              "      <td>33.000000</td>\n",
              "      <td>8.000000</td>\n",
              "      <td>13540.000000</td>\n",
              "      <td>1.651359e+06</td>\n",
              "      <td>3.500000</td>\n",
              "      <td>1.000000</td>\n",
              "      <td>4.000000</td>\n",
              "      <td>5.000000</td>\n",
              "      <td>13.000000</td>\n",
              "      <td>9410.000000</td>\n",
              "      <td>4820.000000</td>\n",
              "      <td>2015.000000</td>\n",
              "      <td>2015.000000</td>\n",
              "      <td>98199.000000</td>\n",
              "      <td>47.777600</td>\n",
              "      <td>-121.315000</td>\n",
              "      <td>6210.000000</td>\n",
              "      <td>871200.000000</td>\n",
              "    </tr>\n",
              "  </tbody>\n",
              "</table>\n",
              "</div>"
            ],
            "text/plain": [
              "                 id         price  ...  sqft_living15     sqft_lot15\n",
              "count  2.161300e+04  2.161300e+04  ...   21613.000000   21613.000000\n",
              "mean   4.580302e+09  5.401822e+05  ...    1986.552492   12768.455652\n",
              "std    2.876566e+09  3.673622e+05  ...     685.391304   27304.179631\n",
              "min    1.000102e+06  7.500000e+04  ...     399.000000     651.000000\n",
              "25%    2.123049e+09  3.219500e+05  ...    1490.000000    5100.000000\n",
              "50%    3.904930e+09  4.500000e+05  ...    1840.000000    7620.000000\n",
              "75%    7.308900e+09  6.450000e+05  ...    2360.000000   10083.000000\n",
              "max    9.900000e+09  7.700000e+06  ...    6210.000000  871200.000000\n",
              "\n",
              "[8 rows x 20 columns]"
            ]
          },
          "metadata": {
            "tags": []
          },
          "execution_count": 143
        }
      ]
    },
    {
      "cell_type": "markdown",
      "metadata": {
        "id": "ckfufNrcUHeH",
        "colab_type": "text"
      },
      "source": [
        "## 4. External Data Source Validation"
      ]
    },
    {
      "cell_type": "markdown",
      "metadata": {
        "id": "6L4sl_0WXlbg",
        "colab_type": "text"
      },
      "source": [
        "Making sure your data matches something outside of the dataset is very important. It allows you to ensure that the measurements are roughly in line with what they should be and it serves as a check on what other things might be wrong in your dataset. External validation can often be as simple as checking your data against a single number, as we will do here."
      ]
    },
    {
      "cell_type": "markdown",
      "metadata": {
        "id": "6XC_g-zKxe-r",
        "colab_type": "text"
      },
      "source": [
        "### a.Validation"
      ]
    },
    {
      "cell_type": "markdown",
      "metadata": {
        "id": "FlBMxEDBUc9B",
        "colab_type": "text"
      },
      "source": [
        "## 5. Tidying the Dataset"
      ]
    },
    {
      "cell_type": "code",
      "metadata": {
        "id": "5o_bQcT5W3Wz",
        "colab_type": "code",
        "colab": {
          "base_uri": "https://localhost:8080/",
          "height": 370
        },
        "outputId": "a07e14a2-b5a0-4ef9-ded5-e8ef8fa55522"
      },
      "source": [
        "# Checking for Outliers\n",
        "#\n",
        "Q1 = house.quantile(0.25)\n",
        "Q3 = house.quantile(0.75)\n",
        "\n",
        "IQR = Q3 - Q1\n",
        "print(IQR)"
      ],
      "execution_count": 144,
      "outputs": [
        {
          "output_type": "stream",
          "text": [
            "id               5.185851e+09\n",
            "price            3.230500e+05\n",
            "bedrooms         1.000000e+00\n",
            "bathrooms        7.500000e-01\n",
            "sqft_living      1.123000e+03\n",
            "sqft_lot         5.648000e+03\n",
            "floors           1.000000e+00\n",
            "waterfront       0.000000e+00\n",
            "view             0.000000e+00\n",
            "condition        1.000000e+00\n",
            "grade            1.000000e+00\n",
            "sqft_above       1.020000e+03\n",
            "sqft_basement    5.600000e+02\n",
            "yr_built         4.600000e+01\n",
            "yr_renovated     0.000000e+00\n",
            "zipcode          8.500000e+01\n",
            "lat              2.070000e-01\n",
            "long             2.030000e-01\n",
            "sqft_living15    8.700000e+02\n",
            "sqft_lot15       4.983000e+03\n",
            "dtype: float64\n"
          ],
          "name": "stdout"
        }
      ]
    },
    {
      "cell_type": "code",
      "metadata": {
        "id": "PWlukLKUvFQN",
        "colab_type": "code",
        "colab": {
          "base_uri": "https://localhost:8080/",
          "height": 370
        },
        "outputId": "a2f74f12-92a7-483b-93dd-a1e3ee56a3df"
      },
      "source": [
        "# Checking for Anomalies\n",
        "# Identifying the outliers using Interquatile range\n",
        "outliers = (house < (Q1 - 1.5 * IQR)) |(house > (Q3 + 1.5 * IQR))\n",
        "\n",
        "print(outliers.any())"
      ],
      "execution_count": 145,
      "outputs": [
        {
          "output_type": "stream",
          "text": [
            "id               False\n",
            "price             True\n",
            "bedrooms          True\n",
            "bathrooms         True\n",
            "sqft_living       True\n",
            "sqft_lot          True\n",
            "floors           False\n",
            "waterfront        True\n",
            "view              True\n",
            "condition         True\n",
            "grade             True\n",
            "sqft_above        True\n",
            "sqft_basement     True\n",
            "yr_built         False\n",
            "yr_renovated      True\n",
            "zipcode          False\n",
            "lat               True\n",
            "long              True\n",
            "sqft_living15     True\n",
            "sqft_lot15        True\n",
            "dtype: bool\n"
          ],
          "name": "stdout"
        }
      ]
    },
    {
      "cell_type": "code",
      "metadata": {
        "id": "7FkHgJZhnp3S",
        "colab_type": "code",
        "colab": {
          "base_uri": "https://localhost:8080/",
          "height": 34
        },
        "outputId": "7d0956b7-b2d2-4784-c701-deb22adeb35d"
      },
      "source": [
        "house['bedrooms'].unique()"
      ],
      "execution_count": 146,
      "outputs": [
        {
          "output_type": "execute_result",
          "data": {
            "text/plain": [
              "array([ 3,  2,  4,  5,  1,  6,  7,  0,  8,  9, 11, 10, 33])"
            ]
          },
          "metadata": {
            "tags": []
          },
          "execution_count": 146
        }
      ]
    },
    {
      "cell_type": "code",
      "metadata": {
        "id": "oct0eHw-G04h",
        "colab_type": "code",
        "colab": {
          "base_uri": "https://localhost:8080/",
          "height": 50
        },
        "outputId": "bbe91e0f-37c5-4583-f66b-d14a1469a4c7"
      },
      "source": [
        "print(house_df['waterfront'].unique())\n",
        "print(house_df['view'].unique())"
      ],
      "execution_count": 147,
      "outputs": [
        {
          "output_type": "stream",
          "text": [
            "[0]\n",
            "[0 2 1]\n"
          ],
          "name": "stdout"
        }
      ]
    },
    {
      "cell_type": "code",
      "metadata": {
        "id": "Sn4_Zd4xm8go",
        "colab_type": "code",
        "colab": {
          "base_uri": "https://localhost:8080/",
          "height": 276
        },
        "outputId": "c48bdb70-d3f4-43a7-ef11-8240f21a3158"
      },
      "source": [
        "# Checking for outliers in the price column using boxplots\n",
        "plt.boxplot(house['price'])\n",
        "plt.show()"
      ],
      "execution_count": 148,
      "outputs": [
        {
          "output_type": "display_data",
          "data": {
            "image/png": "[encoded data removed]",
            "text/plain": [
              "<Figure size 432x288 with 1 Axes>"
            ]
          },
          "metadata": {
            "tags": [],
            "needs_background": "light"
          }
        }
      ]
    },
    {
      "cell_type": "code",
      "metadata": {
        "id": "HguVFfIVzCa9",
        "colab_type": "code",
        "colab": {
          "base_uri": "https://localhost:8080/",
          "height": 265
        },
        "outputId": "893614bf-8de8-4539-9194-4aa6702392c3"
      },
      "source": [
        "# checking for outliers in the bedrooms column using boxplots\n",
        "plt.boxplot(house['bedrooms'])\n",
        "plt.show()"
      ],
      "execution_count": 149,
      "outputs": [
        {
          "output_type": "display_data",
          "data": {
            "image/png": "[encoded data removed]",
            "text/plain": [
              "<Figure size 432x288 with 1 Axes>"
            ]
          },
          "metadata": {
            "tags": [],
            "needs_background": "light"
          }
        }
      ]
    },
    {
      "cell_type": "code",
      "metadata": {
        "id": "rDww8AWIznAm",
        "colab_type": "code",
        "colab": {
          "base_uri": "https://localhost:8080/",
          "height": 318
        },
        "outputId": "62a6244c-850c-40df-9cbc-ba2e941c426b"
      },
      "source": [
        "house.boxplot(column='price', by='bedrooms')"
      ],
      "execution_count": 150,
      "outputs": [
        {
          "output_type": "execute_result",
          "data": {
            "text/plain": [
              "<matplotlib.axes._subplots.AxesSubplot at 0x7f07baa01828>"
            ]
          },
          "metadata": {
            "tags": []
          },
          "execution_count": 150
        },
        {
          "output_type": "display_data",
          "data": {
            "image/png": "[encoded data removed]",
            "text/plain": [
              "<Figure size 432x288 with 1 Axes>"
            ]
          },
          "metadata": {
            "tags": [],
            "needs_background": "light"
          }
        }
      ]
    },
    {
      "cell_type": "code",
      "metadata": {
        "id": "6rdr1GU04vQk",
        "colab_type": "code",
        "colab": {
          "base_uri": "https://localhost:8080/",
          "height": 50
        },
        "outputId": "dcf43537-a3da-424e-92e2-94ac79228c94"
      },
      "source": [
        "# removing outliers\n",
        "\n",
        "z = np.abs(stats.zscore(house))\n",
        "\n",
        "house_df = house[(z < 3).all(axis=1)]\n",
        "\n",
        "print('Dataset with outliers', house.shape)\n",
        "print('Dataset without outliers', house_df.shape)"
      ],
      "execution_count": 151,
      "outputs": [
        {
          "output_type": "stream",
          "text": [
            "Dataset with outliers (21613, 20)\n",
            "Dataset without outliers (18702, 20)\n"
          ],
          "name": "stdout"
        }
      ]
    },
    {
      "cell_type": "code",
      "metadata": {
        "id": "PvCYb6dgW4yh",
        "colab_type": "code",
        "colab": {
          "base_uri": "https://localhost:8080/",
          "height": 370
        },
        "outputId": "50b13311-a9c5-45e2-eb4c-c5ee1f515633"
      },
      "source": [
        "# Identifying the Missing Data\n",
        "#\n",
        "house_df.isnull().sum()"
      ],
      "execution_count": 152,
      "outputs": [
        {
          "output_type": "execute_result",
          "data": {
            "text/plain": [
              "id               0\n",
              "price            0\n",
              "bedrooms         0\n",
              "bathrooms        0\n",
              "sqft_living      0\n",
              "sqft_lot         0\n",
              "floors           0\n",
              "waterfront       0\n",
              "view             0\n",
              "condition        0\n",
              "grade            0\n",
              "sqft_above       0\n",
              "sqft_basement    0\n",
              "yr_built         0\n",
              "yr_renovated     0\n",
              "zipcode          0\n",
              "lat              0\n",
              "long             0\n",
              "sqft_living15    0\n",
              "sqft_lot15       0\n",
              "dtype: int64"
            ]
          },
          "metadata": {
            "tags": []
          },
          "execution_count": 152
        }
      ]
    },
    {
      "cell_type": "code",
      "metadata": {
        "id": "D-4I__6Os4C5",
        "colab_type": "code",
        "colab": {
          "base_uri": "https://localhost:8080/",
          "height": 34
        },
        "outputId": "7446aa40-ec6c-4f92-8c1c-462f1417b040"
      },
      "source": [
        "# More data cleaning procedures\n",
        "#\n",
        "house_df.duplicated().sum()"
      ],
      "execution_count": 153,
      "outputs": [
        {
          "output_type": "execute_result",
          "data": {
            "text/plain": [
              "2"
            ]
          },
          "metadata": {
            "tags": []
          },
          "execution_count": 153
        }
      ]
    },
    {
      "cell_type": "code",
      "metadata": {
        "id": "vZZfy39j5uAC",
        "colab_type": "code",
        "colab": {
          "base_uri": "https://localhost:8080/",
          "height": 34
        },
        "outputId": "a71c3f9e-9293-4480-909f-1cbbfb21f7f5"
      },
      "source": [
        "house_df.drop_duplicates(inplace=True)\n",
        "print(house_df.duplicated().sum())"
      ],
      "execution_count": 154,
      "outputs": [
        {
          "output_type": "stream",
          "text": [
            "0\n"
          ],
          "name": "stdout"
        }
      ]
    },
    {
      "cell_type": "markdown",
      "metadata": {
        "id": "rF2ABPsHUtbZ",
        "colab_type": "text"
      },
      "source": [
        "## 6. Exploratory Analysis"
      ]
    },
    {
      "cell_type": "code",
      "metadata": {
        "id": "5nnRToniXGDK",
        "colab_type": "code",
        "colab": {
          "base_uri": "https://localhost:8080/",
          "height": 276
        },
        "outputId": "d5f4e4b6-0839-476e-8a0a-b333f16d7256"
      },
      "source": [
        "# Ploting the univariate summaries and recording our observations\n",
        "#\n",
        "plt.boxplot(house_df['price'])\n",
        "plt.show()"
      ],
      "execution_count": 155,
      "outputs": [
        {
          "output_type": "display_data",
          "data": {
            "image/png": "[encoded data removed]",
            "text/plain": [
              "<Figure size 432x288 with 1 Axes>"
            ]
          },
          "metadata": {
            "tags": [],
            "needs_background": "light"
          }
        }
      ]
    },
    {
      "cell_type": "markdown",
      "metadata": {
        "id": "gTRyDZmsb4yL",
        "colab_type": "text"
      },
      "source": [
        "**We can see that the outliers have reduced. Therefore we can assume that this data is good enough**"
      ]
    },
    {
      "cell_type": "code",
      "metadata": {
        "id": "Ua-3Lc5-_8hX",
        "colab_type": "code",
        "colab": {
          "base_uri": "https://localhost:8080/",
          "height": 265
        },
        "outputId": "93e764ae-f836-4462-d3b1-899ee50e8453"
      },
      "source": [
        "plt.boxplot(house_df['bedrooms'])\n",
        "plt.show()"
      ],
      "execution_count": 156,
      "outputs": [
        {
          "output_type": "display_data",
          "data": {
            "image/png": "[encoded data removed]",
            "text/plain": [
              "<Figure size 432x288 with 1 Axes>"
            ]
          },
          "metadata": {
            "tags": [],
            "needs_background": "light"
          }
        }
      ]
    },
    {
      "cell_type": "markdown",
      "metadata": {
        "id": "7WvxJ57hcSP_",
        "colab_type": "text"
      },
      "source": [
        "**The huge outlier was the data point with 33 bedrooms. We assume that it was a mistake considering it was too far from the rest of the data points. From this boxplot we see that it has been removed**"
      ]
    },
    {
      "cell_type": "code",
      "metadata": {
        "id": "3sWXGEDBCS1z",
        "colab_type": "code",
        "colab": {
          "base_uri": "https://localhost:8080/",
          "height": 310
        },
        "outputId": "ce04cb5e-fbbf-41c1-d236-6c3ed1a8fa8f"
      },
      "source": [
        "house_df['bedrooms'].value_counts().plot.bar(title='No. of Bedrooms \\n')"
      ],
      "execution_count": 157,
      "outputs": [
        {
          "output_type": "execute_result",
          "data": {
            "text/plain": [
              "<matplotlib.axes._subplots.AxesSubplot at 0x7f07bf481710>"
            ]
          },
          "metadata": {
            "tags": []
          },
          "execution_count": 157
        },
        {
          "output_type": "display_data",
          "data": {
            "image/png": "[encoded data removed]",
            "text/plain": [
              "<Figure size 432x288 with 1 Axes>"
            ]
          },
          "metadata": {
            "tags": [],
            "needs_background": "light"
          }
        }
      ]
    },
    {
      "cell_type": "markdown",
      "metadata": {
        "id": "6om0etxjCl65",
        "colab_type": "text"
      },
      "source": [
        "** 3 bedroomed residentials seem to be the most in Kenya**"
      ]
    },
    {
      "cell_type": "code",
      "metadata": {
        "id": "1t7V-Ljolf8m",
        "colab_type": "code",
        "colab": {
          "base_uri": "https://localhost:8080/",
          "height": 101
        },
        "outputId": "8249a5a1-720f-46d9-d9cd-fedaf61f08e8"
      },
      "source": [
        "house_df.columns"
      ],
      "execution_count": 158,
      "outputs": [
        {
          "output_type": "execute_result",
          "data": {
            "text/plain": [
              "Index(['id', 'price', 'bedrooms', 'bathrooms', 'sqft_living', 'sqft_lot',\n",
              "       'floors', 'waterfront', 'view', 'condition', 'grade', 'sqft_above',\n",
              "       'sqft_basement', 'yr_built', 'yr_renovated', 'zipcode', 'lat', 'long',\n",
              "       'sqft_living15', 'sqft_lot15'],\n",
              "      dtype='object')"
            ]
          },
          "metadata": {
            "tags": []
          },
          "execution_count": 158
        }
      ]
    },
    {
      "cell_type": "code",
      "metadata": {
        "id": "YDCFw8u5lRLE",
        "colab_type": "code",
        "colab": {}
      },
      "source": [
        "#plt.subplots(figsize=(20,15))\n",
        "#sns.heatmap()"
      ],
      "execution_count": 0,
      "outputs": []
    },
    {
      "cell_type": "code",
      "metadata": {
        "id": "WZcGAeX0nzGX",
        "colab_type": "code",
        "colab": {
          "base_uri": "https://localhost:8080/",
          "height": 34
        },
        "outputId": "2793a5ef-cbea-4b22-ecfb-eb0600af26c9"
      },
      "source": [
        "house_df['price'].mean()"
      ],
      "execution_count": 160,
      "outputs": [
        {
          "output_type": "execute_result",
          "data": {
            "text/plain": [
              "480949.37962566846"
            ]
          },
          "metadata": {
            "tags": []
          },
          "execution_count": 160
        }
      ]
    },
    {
      "cell_type": "markdown",
      "metadata": {
        "id": "G58xw5zamN0j",
        "colab_type": "text"
      },
      "source": [
        "## Multicolinearity"
      ]
    },
    {
      "cell_type": "code",
      "metadata": {
        "id": "yKVrQDDNFv0q",
        "colab_type": "code",
        "colab": {
          "base_uri": "https://localhost:8080/",
          "height": 541
        },
        "outputId": "4baaadc2-3662-43ab-a744-8e26eac8df84"
      },
      "source": [
        "# we excluded waterfront and yearof renovation columns because they were giving null values\n",
        "\n",
        "independent_corr1 = house_df[['bedrooms', 'bathrooms', 'sqft_living', 'sqft_lot',\n",
        "       'floors', 'view', 'condition', 'grade', 'sqft_above','sqft_basement',\n",
        "        'yr_built', 'zipcode', 'lat', 'long','sqft_living15',\n",
        "         'sqft_lot15']].corr()\n",
        "independent_corr1"
      ],
      "execution_count": 161,
      "outputs": [
        {
          "output_type": "execute_result",
          "data": {
            "text/html": [
              "<div>\n",
              "<style scoped>\n",
              "    .dataframe tbody tr th:only-of-type {\n",
              "        vertical-align: middle;\n",
              "    }\n",
              "\n",
              "    .dataframe tbody tr th {\n",
              "        vertical-align: top;\n",
              "    }\n",
              "\n",
              "    .dataframe thead th {\n",
              "        text-align: right;\n",
              "    }\n",
              "</style>\n",
              "<table border=\"1\" class=\"dataframe\">\n",
              "  <thead>\n",
              "    <tr style=\"text-align: right;\">\n",
              "      <th></th>\n",
              "      <th>bedrooms</th>\n",
              "      <th>bathrooms</th>\n",
              "      <th>sqft_living</th>\n",
              "      <th>sqft_lot</th>\n",
              "      <th>floors</th>\n",
              "      <th>view</th>\n",
              "      <th>condition</th>\n",
              "      <th>grade</th>\n",
              "      <th>sqft_above</th>\n",
              "      <th>sqft_basement</th>\n",
              "      <th>yr_built</th>\n",
              "      <th>zipcode</th>\n",
              "      <th>lat</th>\n",
              "      <th>long</th>\n",
              "      <th>sqft_living15</th>\n",
              "      <th>sqft_lot15</th>\n",
              "    </tr>\n",
              "  </thead>\n",
              "  <tbody>\n",
              "    <tr>\n",
              "      <th>bedrooms</th>\n",
              "      <td>1.000000</td>\n",
              "      <td>0.488936</td>\n",
              "      <td>0.608989</td>\n",
              "      <td>0.112728</td>\n",
              "      <td>0.160546</td>\n",
              "      <td>0.038684</td>\n",
              "      <td>0.023214</td>\n",
              "      <td>0.334305</td>\n",
              "      <td>0.485852</td>\n",
              "      <td>0.272413</td>\n",
              "      <td>0.176868</td>\n",
              "      <td>-0.179377</td>\n",
              "      <td>-0.042531</td>\n",
              "      <td>0.184070</td>\n",
              "      <td>0.407067</td>\n",
              "      <td>0.114411</td>\n",
              "    </tr>\n",
              "    <tr>\n",
              "      <th>bathrooms</th>\n",
              "      <td>0.488936</td>\n",
              "      <td>1.000000</td>\n",
              "      <td>0.711358</td>\n",
              "      <td>0.063386</td>\n",
              "      <td>0.519367</td>\n",
              "      <td>0.066410</td>\n",
              "      <td>-0.145599</td>\n",
              "      <td>0.619044</td>\n",
              "      <td>0.632672</td>\n",
              "      <td>0.199120</td>\n",
              "      <td>0.585972</td>\n",
              "      <td>-0.232357</td>\n",
              "      <td>-0.005694</td>\n",
              "      <td>0.288834</td>\n",
              "      <td>0.537757</td>\n",
              "      <td>0.066972</td>\n",
              "    </tr>\n",
              "    <tr>\n",
              "      <th>sqft_living</th>\n",
              "      <td>0.608989</td>\n",
              "      <td>0.711358</td>\n",
              "      <td>1.000000</td>\n",
              "      <td>0.231021</td>\n",
              "      <td>0.356824</td>\n",
              "      <td>0.122604</td>\n",
              "      <td>-0.074782</td>\n",
              "      <td>0.711347</td>\n",
              "      <td>0.857320</td>\n",
              "      <td>0.338528</td>\n",
              "      <td>0.371124</td>\n",
              "      <td>-0.228532</td>\n",
              "      <td>0.029259</td>\n",
              "      <td>0.317487</td>\n",
              "      <td>0.750160</td>\n",
              "      <td>0.234743</td>\n",
              "    </tr>\n",
              "    <tr>\n",
              "      <th>sqft_lot</th>\n",
              "      <td>0.112728</td>\n",
              "      <td>0.063386</td>\n",
              "      <td>0.231021</td>\n",
              "      <td>1.000000</td>\n",
              "      <td>-0.101730</td>\n",
              "      <td>0.031274</td>\n",
              "      <td>0.045786</td>\n",
              "      <td>0.142619</td>\n",
              "      <td>0.212990</td>\n",
              "      <td>0.050915</td>\n",
              "      <td>0.023067</td>\n",
              "      <td>-0.180437</td>\n",
              "      <td>-0.052453</td>\n",
              "      <td>0.272173</td>\n",
              "      <td>0.269967</td>\n",
              "      <td>0.817125</td>\n",
              "    </tr>\n",
              "    <tr>\n",
              "      <th>floors</th>\n",
              "      <td>0.160546</td>\n",
              "      <td>0.519367</td>\n",
              "      <td>0.356824</td>\n",
              "      <td>-0.101730</td>\n",
              "      <td>1.000000</td>\n",
              "      <td>-0.016567</td>\n",
              "      <td>-0.288838</td>\n",
              "      <td>0.473657</td>\n",
              "      <td>0.538064</td>\n",
              "      <td>-0.303547</td>\n",
              "      <td>0.537953</td>\n",
              "      <td>-0.068750</td>\n",
              "      <td>0.036622</td>\n",
              "      <td>0.153597</td>\n",
              "      <td>0.279987</td>\n",
              "      <td>-0.104930</td>\n",
              "    </tr>\n",
              "    <tr>\n",
              "      <th>view</th>\n",
              "      <td>0.038684</td>\n",
              "      <td>0.066410</td>\n",
              "      <td>0.122604</td>\n",
              "      <td>0.031274</td>\n",
              "      <td>-0.016567</td>\n",
              "      <td>1.000000</td>\n",
              "      <td>0.033750</td>\n",
              "      <td>0.106621</td>\n",
              "      <td>0.041749</td>\n",
              "      <td>0.157322</td>\n",
              "      <td>-0.060446</td>\n",
              "      <td>0.083978</td>\n",
              "      <td>0.009822</td>\n",
              "      <td>-0.077278</td>\n",
              "      <td>0.142537</td>\n",
              "      <td>0.018078</td>\n",
              "    </tr>\n",
              "    <tr>\n",
              "      <th>condition</th>\n",
              "      <td>0.023214</td>\n",
              "      <td>-0.145599</td>\n",
              "      <td>-0.074782</td>\n",
              "      <td>0.045786</td>\n",
              "      <td>-0.288838</td>\n",
              "      <td>0.033750</td>\n",
              "      <td>1.000000</td>\n",
              "      <td>-0.182750</td>\n",
              "      <td>-0.184518</td>\n",
              "      <td>0.194770</td>\n",
              "      <td>-0.399093</td>\n",
              "      <td>-0.000447</td>\n",
              "      <td>-0.008244</td>\n",
              "      <td>-0.100900</td>\n",
              "      <td>-0.119170</td>\n",
              "      <td>0.053807</td>\n",
              "    </tr>\n",
              "    <tr>\n",
              "      <th>grade</th>\n",
              "      <td>0.334305</td>\n",
              "      <td>0.619044</td>\n",
              "      <td>0.711347</td>\n",
              "      <td>0.142619</td>\n",
              "      <td>0.473657</td>\n",
              "      <td>0.106621</td>\n",
              "      <td>-0.182750</td>\n",
              "      <td>1.000000</td>\n",
              "      <td>0.716105</td>\n",
              "      <td>0.046594</td>\n",
              "      <td>0.499213</td>\n",
              "      <td>-0.200103</td>\n",
              "      <td>0.102835</td>\n",
              "      <td>0.253638</td>\n",
              "      <td>0.676104</td>\n",
              "      <td>0.157701</td>\n",
              "    </tr>\n",
              "    <tr>\n",
              "      <th>sqft_above</th>\n",
              "      <td>0.485852</td>\n",
              "      <td>0.632672</td>\n",
              "      <td>0.857320</td>\n",
              "      <td>0.212990</td>\n",
              "      <td>0.538064</td>\n",
              "      <td>0.041749</td>\n",
              "      <td>-0.184518</td>\n",
              "      <td>0.716105</td>\n",
              "      <td>1.000000</td>\n",
              "      <td>-0.194163</td>\n",
              "      <td>0.474050</td>\n",
              "      <td>-0.288846</td>\n",
              "      <td>-0.029609</td>\n",
              "      <td>0.420450</td>\n",
              "      <td>0.731724</td>\n",
              "      <td>0.222116</td>\n",
              "    </tr>\n",
              "    <tr>\n",
              "      <th>sqft_basement</th>\n",
              "      <td>0.272413</td>\n",
              "      <td>0.199120</td>\n",
              "      <td>0.338528</td>\n",
              "      <td>0.050915</td>\n",
              "      <td>-0.303547</td>\n",
              "      <td>0.157322</td>\n",
              "      <td>0.194770</td>\n",
              "      <td>0.046594</td>\n",
              "      <td>-0.194163</td>\n",
              "      <td>1.000000</td>\n",
              "      <td>-0.159289</td>\n",
              "      <td>0.092483</td>\n",
              "      <td>0.109878</td>\n",
              "      <td>-0.163525</td>\n",
              "      <td>0.092005</td>\n",
              "      <td>0.041326</td>\n",
              "    </tr>\n",
              "    <tr>\n",
              "      <th>yr_built</th>\n",
              "      <td>0.176868</td>\n",
              "      <td>0.585972</td>\n",
              "      <td>0.371124</td>\n",
              "      <td>0.023067</td>\n",
              "      <td>0.537953</td>\n",
              "      <td>-0.060446</td>\n",
              "      <td>-0.399093</td>\n",
              "      <td>0.499213</td>\n",
              "      <td>0.474050</td>\n",
              "      <td>-0.159289</td>\n",
              "      <td>1.000000</td>\n",
              "      <td>-0.339405</td>\n",
              "      <td>-0.154618</td>\n",
              "      <td>0.427794</td>\n",
              "      <td>0.356720</td>\n",
              "      <td>0.043233</td>\n",
              "    </tr>\n",
              "    <tr>\n",
              "      <th>zipcode</th>\n",
              "      <td>-0.179377</td>\n",
              "      <td>-0.232357</td>\n",
              "      <td>-0.228532</td>\n",
              "      <td>-0.180437</td>\n",
              "      <td>-0.068750</td>\n",
              "      <td>0.083978</td>\n",
              "      <td>-0.000447</td>\n",
              "      <td>-0.200103</td>\n",
              "      <td>-0.288846</td>\n",
              "      <td>0.092483</td>\n",
              "      <td>-0.339405</td>\n",
              "      <td>1.000000</td>\n",
              "      <td>0.279119</td>\n",
              "      <td>-0.575552</td>\n",
              "      <td>-0.305958</td>\n",
              "      <td>-0.195963</td>\n",
              "    </tr>\n",
              "    <tr>\n",
              "      <th>lat</th>\n",
              "      <td>-0.042531</td>\n",
              "      <td>-0.005694</td>\n",
              "      <td>0.029259</td>\n",
              "      <td>-0.052453</td>\n",
              "      <td>0.036622</td>\n",
              "      <td>0.009822</td>\n",
              "      <td>-0.008244</td>\n",
              "      <td>0.102835</td>\n",
              "      <td>-0.029609</td>\n",
              "      <td>0.109878</td>\n",
              "      <td>-0.154618</td>\n",
              "      <td>0.279119</td>\n",
              "      <td>1.000000</td>\n",
              "      <td>-0.125664</td>\n",
              "      <td>0.028177</td>\n",
              "      <td>-0.051655</td>\n",
              "    </tr>\n",
              "    <tr>\n",
              "      <th>long</th>\n",
              "      <td>0.184070</td>\n",
              "      <td>0.288834</td>\n",
              "      <td>0.317487</td>\n",
              "      <td>0.272173</td>\n",
              "      <td>0.153597</td>\n",
              "      <td>-0.077278</td>\n",
              "      <td>-0.100900</td>\n",
              "      <td>0.253638</td>\n",
              "      <td>0.420450</td>\n",
              "      <td>-0.163525</td>\n",
              "      <td>0.427794</td>\n",
              "      <td>-0.575552</td>\n",
              "      <td>-0.125664</td>\n",
              "      <td>1.000000</td>\n",
              "      <td>0.414936</td>\n",
              "      <td>0.307454</td>\n",
              "    </tr>\n",
              "    <tr>\n",
              "      <th>sqft_living15</th>\n",
              "      <td>0.407067</td>\n",
              "      <td>0.537757</td>\n",
              "      <td>0.750160</td>\n",
              "      <td>0.269967</td>\n",
              "      <td>0.279987</td>\n",
              "      <td>0.142537</td>\n",
              "      <td>-0.119170</td>\n",
              "      <td>0.676104</td>\n",
              "      <td>0.731724</td>\n",
              "      <td>0.092005</td>\n",
              "      <td>0.356720</td>\n",
              "      <td>-0.305958</td>\n",
              "      <td>0.028177</td>\n",
              "      <td>0.414936</td>\n",
              "      <td>1.000000</td>\n",
              "      <td>0.298866</td>\n",
              "    </tr>\n",
              "    <tr>\n",
              "      <th>sqft_lot15</th>\n",
              "      <td>0.114411</td>\n",
              "      <td>0.066972</td>\n",
              "      <td>0.234743</td>\n",
              "      <td>0.817125</td>\n",
              "      <td>-0.104930</td>\n",
              "      <td>0.018078</td>\n",
              "      <td>0.053807</td>\n",
              "      <td>0.157701</td>\n",
              "      <td>0.222116</td>\n",
              "      <td>0.041326</td>\n",
              "      <td>0.043233</td>\n",
              "      <td>-0.195963</td>\n",
              "      <td>-0.051655</td>\n",
              "      <td>0.307454</td>\n",
              "      <td>0.298866</td>\n",
              "      <td>1.000000</td>\n",
              "    </tr>\n",
              "  </tbody>\n",
              "</table>\n",
              "</div>"
            ],
            "text/plain": [
              "               bedrooms  bathrooms  ...  sqft_living15  sqft_lot15\n",
              "bedrooms       1.000000   0.488936  ...       0.407067    0.114411\n",
              "bathrooms      0.488936   1.000000  ...       0.537757    0.066972\n",
              "sqft_living    0.608989   0.711358  ...       0.750160    0.234743\n",
              "sqft_lot       0.112728   0.063386  ...       0.269967    0.817125\n",
              "floors         0.160546   0.519367  ...       0.279987   -0.104930\n",
              "view           0.038684   0.066410  ...       0.142537    0.018078\n",
              "condition      0.023214  -0.145599  ...      -0.119170    0.053807\n",
              "grade          0.334305   0.619044  ...       0.676104    0.157701\n",
              "sqft_above     0.485852   0.632672  ...       0.731724    0.222116\n",
              "sqft_basement  0.272413   0.199120  ...       0.092005    0.041326\n",
              "yr_built       0.176868   0.585972  ...       0.356720    0.043233\n",
              "zipcode       -0.179377  -0.232357  ...      -0.305958   -0.195963\n",
              "lat           -0.042531  -0.005694  ...       0.028177   -0.051655\n",
              "long           0.184070   0.288834  ...       0.414936    0.307454\n",
              "sqft_living15  0.407067   0.537757  ...       1.000000    0.298866\n",
              "sqft_lot15     0.114411   0.066972  ...       0.298866    1.000000\n",
              "\n",
              "[16 rows x 16 columns]"
            ]
          },
          "metadata": {
            "tags": []
          },
          "execution_count": 161
        }
      ]
    },
    {
      "cell_type": "code",
      "metadata": {
        "id": "tOb-MrTDFw4C",
        "colab_type": "code",
        "colab": {
          "base_uri": "https://localhost:8080/",
          "height": 541
        },
        "outputId": "8591c6bc-f5fe-4b72-fd90-6a29a0729352"
      },
      "source": [
        "pd.DataFrame(np.linalg.inv(independent_corr1.values), index = independent_corr1.index, columns=independent_corr1.columns)"
      ],
      "execution_count": 162,
      "outputs": [
        {
          "output_type": "execute_result",
          "data": {
            "text/html": [
              "<div>\n",
              "<style scoped>\n",
              "    .dataframe tbody tr th:only-of-type {\n",
              "        vertical-align: middle;\n",
              "    }\n",
              "\n",
              "    .dataframe tbody tr th {\n",
              "        vertical-align: top;\n",
              "    }\n",
              "\n",
              "    .dataframe thead th {\n",
              "        text-align: right;\n",
              "    }\n",
              "</style>\n",
              "<table border=\"1\" class=\"dataframe\">\n",
              "  <thead>\n",
              "    <tr style=\"text-align: right;\">\n",
              "      <th></th>\n",
              "      <th>bedrooms</th>\n",
              "      <th>bathrooms</th>\n",
              "      <th>sqft_living</th>\n",
              "      <th>sqft_lot</th>\n",
              "      <th>floors</th>\n",
              "      <th>view</th>\n",
              "      <th>condition</th>\n",
              "      <th>grade</th>\n",
              "      <th>sqft_above</th>\n",
              "      <th>sqft_basement</th>\n",
              "      <th>yr_built</th>\n",
              "      <th>zipcode</th>\n",
              "      <th>lat</th>\n",
              "      <th>long</th>\n",
              "      <th>sqft_living15</th>\n",
              "      <th>sqft_lot15</th>\n",
              "    </tr>\n",
              "  </thead>\n",
              "  <tbody>\n",
              "    <tr>\n",
              "      <th>bedrooms</th>\n",
              "      <td>1.715620</td>\n",
              "      <td>-0.378646</td>\n",
              "      <td>-8.709448e-01</td>\n",
              "      <td>0.039175</td>\n",
              "      <td>0.089044</td>\n",
              "      <td>0.058901</td>\n",
              "      <td>-0.038941</td>\n",
              "      <td>0.288770</td>\n",
              "      <td>-2.493568e-01</td>\n",
              "      <td>-1.332351e-01</td>\n",
              "      <td>0.139064</td>\n",
              "      <td>0.094525</td>\n",
              "      <td>0.068737</td>\n",
              "      <td>0.025546</td>\n",
              "      <td>0.071368</td>\n",
              "      <td>0.013863</td>\n",
              "    </tr>\n",
              "    <tr>\n",
              "      <th>bathrooms</th>\n",
              "      <td>-0.378646</td>\n",
              "      <td>3.121655</td>\n",
              "      <td>-1.410414e+00</td>\n",
              "      <td>0.033728</td>\n",
              "      <td>-0.719756</td>\n",
              "      <td>-0.034966</td>\n",
              "      <td>-0.178406</td>\n",
              "      <td>-0.207940</td>\n",
              "      <td>3.542076e-01</td>\n",
              "      <td>-3.067232e-01</td>\n",
              "      <td>-1.015895</td>\n",
              "      <td>0.054823</td>\n",
              "      <td>-0.031561</td>\n",
              "      <td>-0.007922</td>\n",
              "      <td>-0.026063</td>\n",
              "      <td>0.103250</td>\n",
              "    </tr>\n",
              "    <tr>\n",
              "      <th>sqft_living</th>\n",
              "      <td>-0.870312</td>\n",
              "      <td>-1.413710</td>\n",
              "      <td>-1.939720e+13</td>\n",
              "      <td>-0.326316</td>\n",
              "      <td>0.363565</td>\n",
              "      <td>-0.415186</td>\n",
              "      <td>-1.036158</td>\n",
              "      <td>-0.679464</td>\n",
              "      <td>1.860601e+13</td>\n",
              "      <td>1.017910e+13</td>\n",
              "      <td>0.044740</td>\n",
              "      <td>-0.192422</td>\n",
              "      <td>-0.145496</td>\n",
              "      <td>0.214604</td>\n",
              "      <td>-1.082939</td>\n",
              "      <td>0.131757</td>\n",
              "    </tr>\n",
              "    <tr>\n",
              "      <th>sqft_lot</th>\n",
              "      <td>0.039175</td>\n",
              "      <td>0.033728</td>\n",
              "      <td>-3.257260e-01</td>\n",
              "      <td>3.049801</td>\n",
              "      <td>0.091445</td>\n",
              "      <td>-0.037883</td>\n",
              "      <td>0.035874</td>\n",
              "      <td>0.015989</td>\n",
              "      <td>4.421465e-02</td>\n",
              "      <td>6.705434e-02</td>\n",
              "      <td>0.101205</td>\n",
              "      <td>0.041159</td>\n",
              "      <td>0.031474</td>\n",
              "      <td>-0.059087</td>\n",
              "      <td>0.044817</td>\n",
              "      <td>-2.419000</td>\n",
              "    </tr>\n",
              "    <tr>\n",
              "      <th>floors</th>\n",
              "      <td>0.089044</td>\n",
              "      <td>-0.719756</td>\n",
              "      <td>3.633096e-01</td>\n",
              "      <td>0.091445</td>\n",
              "      <td>2.204571</td>\n",
              "      <td>-0.013417</td>\n",
              "      <td>0.090672</td>\n",
              "      <td>-0.239037</td>\n",
              "      <td>-9.844930e-01</td>\n",
              "      <td>4.115071e-01</td>\n",
              "      <td>-0.500276</td>\n",
              "      <td>-0.167803</td>\n",
              "      <td>-0.142073</td>\n",
              "      <td>0.184997</td>\n",
              "      <td>0.293806</td>\n",
              "      <td>0.180872</td>\n",
              "    </tr>\n",
              "    <tr>\n",
              "      <th>view</th>\n",
              "      <td>0.058901</td>\n",
              "      <td>-0.034966</td>\n",
              "      <td>-4.154339e-01</td>\n",
              "      <td>-0.037883</td>\n",
              "      <td>-0.013417</td>\n",
              "      <td>1.076588</td>\n",
              "      <td>-0.005669</td>\n",
              "      <td>-0.088745</td>\n",
              "      <td>4.507531e-01</td>\n",
              "      <td>1.001836e-01</td>\n",
              "      <td>0.111807</td>\n",
              "      <td>-0.094059</td>\n",
              "      <td>0.073516</td>\n",
              "      <td>0.062074</td>\n",
              "      <td>-0.221470</td>\n",
              "      <td>0.040873</td>\n",
              "    </tr>\n",
              "    <tr>\n",
              "      <th>condition</th>\n",
              "      <td>-0.038941</td>\n",
              "      <td>-0.178406</td>\n",
              "      <td>-1.035529e+00</td>\n",
              "      <td>0.035874</td>\n",
              "      <td>0.090672</td>\n",
              "      <td>-0.005669</td>\n",
              "      <td>1.273299</td>\n",
              "      <td>-0.035028</td>\n",
              "      <td>1.021085e+00</td>\n",
              "      <td>4.360676e-01</td>\n",
              "      <td>0.597905</td>\n",
              "      <td>0.162090</td>\n",
              "      <td>0.057846</td>\n",
              "      <td>-0.035431</td>\n",
              "      <td>0.116673</td>\n",
              "      <td>-0.083101</td>\n",
              "    </tr>\n",
              "    <tr>\n",
              "      <th>grade</th>\n",
              "      <td>0.288770</td>\n",
              "      <td>-0.207940</td>\n",
              "      <td>-6.839264e-01</td>\n",
              "      <td>0.015989</td>\n",
              "      <td>-0.239037</td>\n",
              "      <td>-0.088745</td>\n",
              "      <td>-0.035028</td>\n",
              "      <td>2.914574</td>\n",
              "      <td>-6.603978e-01</td>\n",
              "      <td>-5.332098e-02</td>\n",
              "      <td>-0.622098</td>\n",
              "      <td>0.096078</td>\n",
              "      <td>-0.325245</td>\n",
              "      <td>0.404494</td>\n",
              "      <td>-0.792604</td>\n",
              "      <td>-0.062502</td>\n",
              "    </tr>\n",
              "    <tr>\n",
              "      <th>sqft_above</th>\n",
              "      <td>-0.248960</td>\n",
              "      <td>0.354707</td>\n",
              "      <td>1.860601e+13</td>\n",
              "      <td>0.044653</td>\n",
              "      <td>-0.985263</td>\n",
              "      <td>0.450588</td>\n",
              "      <td>1.021742</td>\n",
              "      <td>-0.664844</td>\n",
              "      <td>-1.784709e+13</td>\n",
              "      <td>-9.763902e+12</td>\n",
              "      <td>0.387495</td>\n",
              "      <td>0.054477</td>\n",
              "      <td>0.317953</td>\n",
              "      <td>-0.574794</td>\n",
              "      <td>-0.631878</td>\n",
              "      <td>-0.158298</td>\n",
              "    </tr>\n",
              "    <tr>\n",
              "      <th>sqft_basement</th>\n",
              "      <td>-0.132883</td>\n",
              "      <td>-0.307833</td>\n",
              "      <td>1.017910e+13</td>\n",
              "      <td>0.067494</td>\n",
              "      <td>0.411991</td>\n",
              "      <td>0.099949</td>\n",
              "      <td>0.436305</td>\n",
              "      <td>-0.055311</td>\n",
              "      <td>-9.763902e+12</td>\n",
              "      <td>-5.341698e+12</td>\n",
              "      <td>0.207696</td>\n",
              "      <td>-0.006664</td>\n",
              "      <td>-0.016181</td>\n",
              "      <td>0.069031</td>\n",
              "      <td>0.055269</td>\n",
              "      <td>-0.061300</td>\n",
              "    </tr>\n",
              "    <tr>\n",
              "      <th>yr_built</th>\n",
              "      <td>0.139064</td>\n",
              "      <td>-1.015895</td>\n",
              "      <td>4.531753e-02</td>\n",
              "      <td>0.101205</td>\n",
              "      <td>-0.500276</td>\n",
              "      <td>0.111807</td>\n",
              "      <td>0.597905</td>\n",
              "      <td>-0.622098</td>\n",
              "      <td>3.869406e-01</td>\n",
              "      <td>2.073922e-01</td>\n",
              "      <td>2.546794</td>\n",
              "      <td>0.223748</td>\n",
              "      <td>0.333441</td>\n",
              "      <td>-0.562838</td>\n",
              "      <td>0.138746</td>\n",
              "      <td>-0.041763</td>\n",
              "    </tr>\n",
              "    <tr>\n",
              "      <th>zipcode</th>\n",
              "      <td>0.094525</td>\n",
              "      <td>0.054823</td>\n",
              "      <td>-1.919471e-01</td>\n",
              "      <td>0.041159</td>\n",
              "      <td>-0.167803</td>\n",
              "      <td>-0.094059</td>\n",
              "      <td>0.162090</td>\n",
              "      <td>0.096078</td>\n",
              "      <td>5.402179e-02</td>\n",
              "      <td>-6.913417e-03</td>\n",
              "      <td>0.223748</td>\n",
              "      <td>1.686344</td>\n",
              "      <td>-0.332798</td>\n",
              "      <td>0.775751</td>\n",
              "      <td>0.177066</td>\n",
              "      <td>-0.042383</td>\n",
              "    </tr>\n",
              "    <tr>\n",
              "      <th>lat</th>\n",
              "      <td>0.068737</td>\n",
              "      <td>-0.031561</td>\n",
              "      <td>-1.450936e-01</td>\n",
              "      <td>0.031474</td>\n",
              "      <td>-0.142073</td>\n",
              "      <td>0.073516</td>\n",
              "      <td>0.057846</td>\n",
              "      <td>-0.325245</td>\n",
              "      <td>3.175668e-01</td>\n",
              "      <td>-1.639269e-02</td>\n",
              "      <td>0.333441</td>\n",
              "      <td>-0.332798</td>\n",
              "      <td>1.188283</td>\n",
              "      <td>-0.140257</td>\n",
              "      <td>-0.086046</td>\n",
              "      <td>0.015262</td>\n",
              "    </tr>\n",
              "    <tr>\n",
              "      <th>long</th>\n",
              "      <td>0.025546</td>\n",
              "      <td>-0.007922</td>\n",
              "      <td>2.136354e-01</td>\n",
              "      <td>-0.059087</td>\n",
              "      <td>0.184997</td>\n",
              "      <td>0.062074</td>\n",
              "      <td>-0.035431</td>\n",
              "      <td>0.404494</td>\n",
              "      <td>-5.738644e-01</td>\n",
              "      <td>6.953975e-02</td>\n",
              "      <td>-0.562838</td>\n",
              "      <td>0.775751</td>\n",
              "      <td>-0.140257</td>\n",
              "      <td>1.970865</td>\n",
              "      <td>-0.377045</td>\n",
              "      <td>-0.247419</td>\n",
              "    </tr>\n",
              "    <tr>\n",
              "      <th>sqft_living15</th>\n",
              "      <td>0.071368</td>\n",
              "      <td>-0.026063</td>\n",
              "      <td>-1.077962e+00</td>\n",
              "      <td>0.044817</td>\n",
              "      <td>0.293806</td>\n",
              "      <td>-0.221470</td>\n",
              "      <td>0.116673</td>\n",
              "      <td>-0.792604</td>\n",
              "      <td>-6.366513e-01</td>\n",
              "      <td>5.265776e-02</td>\n",
              "      <td>0.138746</td>\n",
              "      <td>0.177066</td>\n",
              "      <td>-0.086046</td>\n",
              "      <td>-0.377045</td>\n",
              "      <td>2.979101</td>\n",
              "      <td>-0.247388</td>\n",
              "    </tr>\n",
              "    <tr>\n",
              "      <th>sqft_lot15</th>\n",
              "      <td>0.013863</td>\n",
              "      <td>0.103250</td>\n",
              "      <td>1.309829e-01</td>\n",
              "      <td>-2.419000</td>\n",
              "      <td>0.180872</td>\n",
              "      <td>0.040873</td>\n",
              "      <td>-0.083101</td>\n",
              "      <td>-0.062502</td>\n",
              "      <td>-1.575557e-01</td>\n",
              "      <td>-6.089389e-02</td>\n",
              "      <td>-0.041763</td>\n",
              "      <td>-0.042383</td>\n",
              "      <td>0.015262</td>\n",
              "      <td>-0.247419</td>\n",
              "      <td>-0.247388</td>\n",
              "      <td>3.151752</td>\n",
              "    </tr>\n",
              "  </tbody>\n",
              "</table>\n",
              "</div>"
            ],
            "text/plain": [
              "               bedrooms  bathrooms  ...  sqft_living15  sqft_lot15\n",
              "bedrooms       1.715620  -0.378646  ...       0.071368    0.013863\n",
              "bathrooms     -0.378646   3.121655  ...      -0.026063    0.103250\n",
              "sqft_living   -0.870312  -1.413710  ...      -1.082939    0.131757\n",
              "sqft_lot       0.039175   0.033728  ...       0.044817   -2.419000\n",
              "floors         0.089044  -0.719756  ...       0.293806    0.180872\n",
              "view           0.058901  -0.034966  ...      -0.221470    0.040873\n",
              "condition     -0.038941  -0.178406  ...       0.116673   -0.083101\n",
              "grade          0.288770  -0.207940  ...      -0.792604   -0.062502\n",
              "sqft_above    -0.248960   0.354707  ...      -0.631878   -0.158298\n",
              "sqft_basement -0.132883  -0.307833  ...       0.055269   -0.061300\n",
              "yr_built       0.139064  -1.015895  ...       0.138746   -0.041763\n",
              "zipcode        0.094525   0.054823  ...       0.177066   -0.042383\n",
              "lat            0.068737  -0.031561  ...      -0.086046    0.015262\n",
              "long           0.025546  -0.007922  ...      -0.377045   -0.247419\n",
              "sqft_living15  0.071368  -0.026063  ...       2.979101   -0.247388\n",
              "sqft_lot15     0.013863   0.103250  ...      -0.247388    3.151752\n",
              "\n",
              "[16 rows x 16 columns]"
            ]
          },
          "metadata": {
            "tags": []
          },
          "execution_count": 162
        }
      ]
    },
    {
      "cell_type": "code",
      "metadata": {
        "id": "YTS0ABddazjf",
        "colab_type": "code",
        "colab": {
          "base_uri": "https://localhost:8080/",
          "height": 511
        },
        "outputId": "a89ddf46-7056-473e-fb17-442ce2a79c6c"
      },
      "source": [
        "# we dropped the sqft_above column to see whether the coliniearity will reduce\n",
        "independent_corr2 = house_df[['bedrooms', 'bathrooms', 'sqft_living', 'sqft_lot',\n",
        "       'floors', 'view', 'condition', 'grade', 'sqft_above','yr_built', 'zipcode', \n",
        "       'lat', 'long','sqft_living15','sqft_lot15']].corr()\n",
        "independent_corr2\n"
      ],
      "execution_count": 163,
      "outputs": [
        {
          "output_type": "execute_result",
          "data": {
            "text/html": [
              "<div>\n",
              "<style scoped>\n",
              "    .dataframe tbody tr th:only-of-type {\n",
              "        vertical-align: middle;\n",
              "    }\n",
              "\n",
              "    .dataframe tbody tr th {\n",
              "        vertical-align: top;\n",
              "    }\n",
              "\n",
              "    .dataframe thead th {\n",
              "        text-align: right;\n",
              "    }\n",
              "</style>\n",
              "<table border=\"1\" class=\"dataframe\">\n",
              "  <thead>\n",
              "    <tr style=\"text-align: right;\">\n",
              "      <th></th>\n",
              "      <th>bedrooms</th>\n",
              "      <th>bathrooms</th>\n",
              "      <th>sqft_living</th>\n",
              "      <th>sqft_lot</th>\n",
              "      <th>floors</th>\n",
              "      <th>view</th>\n",
              "      <th>condition</th>\n",
              "      <th>grade</th>\n",
              "      <th>sqft_above</th>\n",
              "      <th>yr_built</th>\n",
              "      <th>zipcode</th>\n",
              "      <th>lat</th>\n",
              "      <th>long</th>\n",
              "      <th>sqft_living15</th>\n",
              "      <th>sqft_lot15</th>\n",
              "    </tr>\n",
              "  </thead>\n",
              "  <tbody>\n",
              "    <tr>\n",
              "      <th>bedrooms</th>\n",
              "      <td>1.000000</td>\n",
              "      <td>0.488936</td>\n",
              "      <td>0.608989</td>\n",
              "      <td>0.112728</td>\n",
              "      <td>0.160546</td>\n",
              "      <td>0.038684</td>\n",
              "      <td>0.023214</td>\n",
              "      <td>0.334305</td>\n",
              "      <td>0.485852</td>\n",
              "      <td>0.176868</td>\n",
              "      <td>-0.179377</td>\n",
              "      <td>-0.042531</td>\n",
              "      <td>0.184070</td>\n",
              "      <td>0.407067</td>\n",
              "      <td>0.114411</td>\n",
              "    </tr>\n",
              "    <tr>\n",
              "      <th>bathrooms</th>\n",
              "      <td>0.488936</td>\n",
              "      <td>1.000000</td>\n",
              "      <td>0.711358</td>\n",
              "      <td>0.063386</td>\n",
              "      <td>0.519367</td>\n",
              "      <td>0.066410</td>\n",
              "      <td>-0.145599</td>\n",
              "      <td>0.619044</td>\n",
              "      <td>0.632672</td>\n",
              "      <td>0.585972</td>\n",
              "      <td>-0.232357</td>\n",
              "      <td>-0.005694</td>\n",
              "      <td>0.288834</td>\n",
              "      <td>0.537757</td>\n",
              "      <td>0.066972</td>\n",
              "    </tr>\n",
              "    <tr>\n",
              "      <th>sqft_living</th>\n",
              "      <td>0.608989</td>\n",
              "      <td>0.711358</td>\n",
              "      <td>1.000000</td>\n",
              "      <td>0.231021</td>\n",
              "      <td>0.356824</td>\n",
              "      <td>0.122604</td>\n",
              "      <td>-0.074782</td>\n",
              "      <td>0.711347</td>\n",
              "      <td>0.857320</td>\n",
              "      <td>0.371124</td>\n",
              "      <td>-0.228532</td>\n",
              "      <td>0.029259</td>\n",
              "      <td>0.317487</td>\n",
              "      <td>0.750160</td>\n",
              "      <td>0.234743</td>\n",
              "    </tr>\n",
              "    <tr>\n",
              "      <th>sqft_lot</th>\n",
              "      <td>0.112728</td>\n",
              "      <td>0.063386</td>\n",
              "      <td>0.231021</td>\n",
              "      <td>1.000000</td>\n",
              "      <td>-0.101730</td>\n",
              "      <td>0.031274</td>\n",
              "      <td>0.045786</td>\n",
              "      <td>0.142619</td>\n",
              "      <td>0.212990</td>\n",
              "      <td>0.023067</td>\n",
              "      <td>-0.180437</td>\n",
              "      <td>-0.052453</td>\n",
              "      <td>0.272173</td>\n",
              "      <td>0.269967</td>\n",
              "      <td>0.817125</td>\n",
              "    </tr>\n",
              "    <tr>\n",
              "      <th>floors</th>\n",
              "      <td>0.160546</td>\n",
              "      <td>0.519367</td>\n",
              "      <td>0.356824</td>\n",
              "      <td>-0.101730</td>\n",
              "      <td>1.000000</td>\n",
              "      <td>-0.016567</td>\n",
              "      <td>-0.288838</td>\n",
              "      <td>0.473657</td>\n",
              "      <td>0.538064</td>\n",
              "      <td>0.537953</td>\n",
              "      <td>-0.068750</td>\n",
              "      <td>0.036622</td>\n",
              "      <td>0.153597</td>\n",
              "      <td>0.279987</td>\n",
              "      <td>-0.104930</td>\n",
              "    </tr>\n",
              "    <tr>\n",
              "      <th>view</th>\n",
              "      <td>0.038684</td>\n",
              "      <td>0.066410</td>\n",
              "      <td>0.122604</td>\n",
              "      <td>0.031274</td>\n",
              "      <td>-0.016567</td>\n",
              "      <td>1.000000</td>\n",
              "      <td>0.033750</td>\n",
              "      <td>0.106621</td>\n",
              "      <td>0.041749</td>\n",
              "      <td>-0.060446</td>\n",
              "      <td>0.083978</td>\n",
              "      <td>0.009822</td>\n",
              "      <td>-0.077278</td>\n",
              "      <td>0.142537</td>\n",
              "      <td>0.018078</td>\n",
              "    </tr>\n",
              "    <tr>\n",
              "      <th>condition</th>\n",
              "      <td>0.023214</td>\n",
              "      <td>-0.145599</td>\n",
              "      <td>-0.074782</td>\n",
              "      <td>0.045786</td>\n",
              "      <td>-0.288838</td>\n",
              "      <td>0.033750</td>\n",
              "      <td>1.000000</td>\n",
              "      <td>-0.182750</td>\n",
              "      <td>-0.184518</td>\n",
              "      <td>-0.399093</td>\n",
              "      <td>-0.000447</td>\n",
              "      <td>-0.008244</td>\n",
              "      <td>-0.100900</td>\n",
              "      <td>-0.119170</td>\n",
              "      <td>0.053807</td>\n",
              "    </tr>\n",
              "    <tr>\n",
              "      <th>grade</th>\n",
              "      <td>0.334305</td>\n",
              "      <td>0.619044</td>\n",
              "      <td>0.711347</td>\n",
              "      <td>0.142619</td>\n",
              "      <td>0.473657</td>\n",
              "      <td>0.106621</td>\n",
              "      <td>-0.182750</td>\n",
              "      <td>1.000000</td>\n",
              "      <td>0.716105</td>\n",
              "      <td>0.499213</td>\n",
              "      <td>-0.200103</td>\n",
              "      <td>0.102835</td>\n",
              "      <td>0.253638</td>\n",
              "      <td>0.676104</td>\n",
              "      <td>0.157701</td>\n",
              "    </tr>\n",
              "    <tr>\n",
              "      <th>sqft_above</th>\n",
              "      <td>0.485852</td>\n",
              "      <td>0.632672</td>\n",
              "      <td>0.857320</td>\n",
              "      <td>0.212990</td>\n",
              "      <td>0.538064</td>\n",
              "      <td>0.041749</td>\n",
              "      <td>-0.184518</td>\n",
              "      <td>0.716105</td>\n",
              "      <td>1.000000</td>\n",
              "      <td>0.474050</td>\n",
              "      <td>-0.288846</td>\n",
              "      <td>-0.029609</td>\n",
              "      <td>0.420450</td>\n",
              "      <td>0.731724</td>\n",
              "      <td>0.222116</td>\n",
              "    </tr>\n",
              "    <tr>\n",
              "      <th>yr_built</th>\n",
              "      <td>0.176868</td>\n",
              "      <td>0.585972</td>\n",
              "      <td>0.371124</td>\n",
              "      <td>0.023067</td>\n",
              "      <td>0.537953</td>\n",
              "      <td>-0.060446</td>\n",
              "      <td>-0.399093</td>\n",
              "      <td>0.499213</td>\n",
              "      <td>0.474050</td>\n",
              "      <td>1.000000</td>\n",
              "      <td>-0.339405</td>\n",
              "      <td>-0.154618</td>\n",
              "      <td>0.427794</td>\n",
              "      <td>0.356720</td>\n",
              "      <td>0.043233</td>\n",
              "    </tr>\n",
              "    <tr>\n",
              "      <th>zipcode</th>\n",
              "      <td>-0.179377</td>\n",
              "      <td>-0.232357</td>\n",
              "      <td>-0.228532</td>\n",
              "      <td>-0.180437</td>\n",
              "      <td>-0.068750</td>\n",
              "      <td>0.083978</td>\n",
              "      <td>-0.000447</td>\n",
              "      <td>-0.200103</td>\n",
              "      <td>-0.288846</td>\n",
              "      <td>-0.339405</td>\n",
              "      <td>1.000000</td>\n",
              "      <td>0.279119</td>\n",
              "      <td>-0.575552</td>\n",
              "      <td>-0.305958</td>\n",
              "      <td>-0.195963</td>\n",
              "    </tr>\n",
              "    <tr>\n",
              "      <th>lat</th>\n",
              "      <td>-0.042531</td>\n",
              "      <td>-0.005694</td>\n",
              "      <td>0.029259</td>\n",
              "      <td>-0.052453</td>\n",
              "      <td>0.036622</td>\n",
              "      <td>0.009822</td>\n",
              "      <td>-0.008244</td>\n",
              "      <td>0.102835</td>\n",
              "      <td>-0.029609</td>\n",
              "      <td>-0.154618</td>\n",
              "      <td>0.279119</td>\n",
              "      <td>1.000000</td>\n",
              "      <td>-0.125664</td>\n",
              "      <td>0.028177</td>\n",
              "      <td>-0.051655</td>\n",
              "    </tr>\n",
              "    <tr>\n",
              "      <th>long</th>\n",
              "      <td>0.184070</td>\n",
              "      <td>0.288834</td>\n",
              "      <td>0.317487</td>\n",
              "      <td>0.272173</td>\n",
              "      <td>0.153597</td>\n",
              "      <td>-0.077278</td>\n",
              "      <td>-0.100900</td>\n",
              "      <td>0.253638</td>\n",
              "      <td>0.420450</td>\n",
              "      <td>0.427794</td>\n",
              "      <td>-0.575552</td>\n",
              "      <td>-0.125664</td>\n",
              "      <td>1.000000</td>\n",
              "      <td>0.414936</td>\n",
              "      <td>0.307454</td>\n",
              "    </tr>\n",
              "    <tr>\n",
              "      <th>sqft_living15</th>\n",
              "      <td>0.407067</td>\n",
              "      <td>0.537757</td>\n",
              "      <td>0.750160</td>\n",
              "      <td>0.269967</td>\n",
              "      <td>0.279987</td>\n",
              "      <td>0.142537</td>\n",
              "      <td>-0.119170</td>\n",
              "      <td>0.676104</td>\n",
              "      <td>0.731724</td>\n",
              "      <td>0.356720</td>\n",
              "      <td>-0.305958</td>\n",
              "      <td>0.028177</td>\n",
              "      <td>0.414936</td>\n",
              "      <td>1.000000</td>\n",
              "      <td>0.298866</td>\n",
              "    </tr>\n",
              "    <tr>\n",
              "      <th>sqft_lot15</th>\n",
              "      <td>0.114411</td>\n",
              "      <td>0.066972</td>\n",
              "      <td>0.234743</td>\n",
              "      <td>0.817125</td>\n",
              "      <td>-0.104930</td>\n",
              "      <td>0.018078</td>\n",
              "      <td>0.053807</td>\n",
              "      <td>0.157701</td>\n",
              "      <td>0.222116</td>\n",
              "      <td>0.043233</td>\n",
              "      <td>-0.195963</td>\n",
              "      <td>-0.051655</td>\n",
              "      <td>0.307454</td>\n",
              "      <td>0.298866</td>\n",
              "      <td>1.000000</td>\n",
              "    </tr>\n",
              "  </tbody>\n",
              "</table>\n",
              "</div>"
            ],
            "text/plain": [
              "               bedrooms  bathrooms  ...  sqft_living15  sqft_lot15\n",
              "bedrooms       1.000000   0.488936  ...       0.407067    0.114411\n",
              "bathrooms      0.488936   1.000000  ...       0.537757    0.066972\n",
              "sqft_living    0.608989   0.711358  ...       0.750160    0.234743\n",
              "sqft_lot       0.112728   0.063386  ...       0.269967    0.817125\n",
              "floors         0.160546   0.519367  ...       0.279987   -0.104930\n",
              "view           0.038684   0.066410  ...       0.142537    0.018078\n",
              "condition      0.023214  -0.145599  ...      -0.119170    0.053807\n",
              "grade          0.334305   0.619044  ...       0.676104    0.157701\n",
              "sqft_above     0.485852   0.632672  ...       0.731724    0.222116\n",
              "yr_built       0.176868   0.585972  ...       0.356720    0.043233\n",
              "zipcode       -0.179377  -0.232357  ...      -0.305958   -0.195963\n",
              "lat           -0.042531  -0.005694  ...       0.028177   -0.051655\n",
              "long           0.184070   0.288834  ...       0.414936    0.307454\n",
              "sqft_living15  0.407067   0.537757  ...       1.000000    0.298866\n",
              "sqft_lot15     0.114411   0.066972  ...       0.298866    1.000000\n",
              "\n",
              "[15 rows x 15 columns]"
            ]
          },
          "metadata": {
            "tags": []
          },
          "execution_count": 163
        }
      ]
    },
    {
      "cell_type": "code",
      "metadata": {
        "id": "tvbOfhG0bPpM",
        "colab_type": "code",
        "colab": {
          "base_uri": "https://localhost:8080/",
          "height": 511
        },
        "outputId": "cc1c704c-10f0-4cbf-f43f-417175943d86"
      },
      "source": [
        "pd.DataFrame(np.linalg.inv(independent_corr2.values), index = independent_corr2.index, columns=independent_corr2.columns)\n",
        "\n",
        "# The colinearity has now increased in most of the columns therefore we will refrain from dropping the sqft_above column"
      ],
      "execution_count": 164,
      "outputs": [
        {
          "output_type": "execute_result",
          "data": {
            "text/html": [
              "<div>\n",
              "<style scoped>\n",
              "    .dataframe tbody tr th:only-of-type {\n",
              "        vertical-align: middle;\n",
              "    }\n",
              "\n",
              "    .dataframe tbody tr th {\n",
              "        vertical-align: top;\n",
              "    }\n",
              "\n",
              "    .dataframe thead th {\n",
              "        text-align: right;\n",
              "    }\n",
              "</style>\n",
              "<table border=\"1\" class=\"dataframe\">\n",
              "  <thead>\n",
              "    <tr style=\"text-align: right;\">\n",
              "      <th></th>\n",
              "      <th>bedrooms</th>\n",
              "      <th>bathrooms</th>\n",
              "      <th>sqft_living</th>\n",
              "      <th>sqft_lot</th>\n",
              "      <th>floors</th>\n",
              "      <th>view</th>\n",
              "      <th>condition</th>\n",
              "      <th>grade</th>\n",
              "      <th>sqft_above</th>\n",
              "      <th>yr_built</th>\n",
              "      <th>zipcode</th>\n",
              "      <th>lat</th>\n",
              "      <th>long</th>\n",
              "      <th>sqft_living15</th>\n",
              "      <th>sqft_lot15</th>\n",
              "    </tr>\n",
              "  </thead>\n",
              "  <tbody>\n",
              "    <tr>\n",
              "      <th>bedrooms</th>\n",
              "      <td>1.715620</td>\n",
              "      <td>-0.378646</td>\n",
              "      <td>-1.123533</td>\n",
              "      <td>0.039175</td>\n",
              "      <td>0.089044</td>\n",
              "      <td>0.058901</td>\n",
              "      <td>-0.038941</td>\n",
              "      <td>0.288770</td>\n",
              "      <td>-0.006068</td>\n",
              "      <td>0.139064</td>\n",
              "      <td>0.094525</td>\n",
              "      <td>0.068737</td>\n",
              "      <td>0.025546</td>\n",
              "      <td>0.071368</td>\n",
              "      <td>0.013863</td>\n",
              "    </tr>\n",
              "    <tr>\n",
              "      <th>bathrooms</th>\n",
              "      <td>-0.378646</td>\n",
              "      <td>3.121655</td>\n",
              "      <td>-2.000315</td>\n",
              "      <td>0.033728</td>\n",
              "      <td>-0.719756</td>\n",
              "      <td>-0.034966</td>\n",
              "      <td>-0.178406</td>\n",
              "      <td>-0.207940</td>\n",
              "      <td>0.917385</td>\n",
              "      <td>-1.015895</td>\n",
              "      <td>0.054823</td>\n",
              "      <td>-0.031561</td>\n",
              "      <td>-0.007922</td>\n",
              "      <td>-0.026063</td>\n",
              "      <td>0.103250</td>\n",
              "    </tr>\n",
              "    <tr>\n",
              "      <th>sqft_living</th>\n",
              "      <td>-1.123533</td>\n",
              "      <td>-2.000315</td>\n",
              "      <td>7.396953</td>\n",
              "      <td>-0.197699</td>\n",
              "      <td>1.148653</td>\n",
              "      <td>-0.224723</td>\n",
              "      <td>-0.204739</td>\n",
              "      <td>-0.784864</td>\n",
              "      <td>-4.279242</td>\n",
              "      <td>0.440522</td>\n",
              "      <td>-0.205121</td>\n",
              "      <td>-0.176331</td>\n",
              "      <td>0.346150</td>\n",
              "      <td>-0.977618</td>\n",
              "      <td>0.014944</td>\n",
              "    </tr>\n",
              "    <tr>\n",
              "      <th>sqft_lot</th>\n",
              "      <td>0.039175</td>\n",
              "      <td>0.033728</td>\n",
              "      <td>-0.197699</td>\n",
              "      <td>3.049801</td>\n",
              "      <td>0.091445</td>\n",
              "      <td>-0.037883</td>\n",
              "      <td>0.035874</td>\n",
              "      <td>0.015989</td>\n",
              "      <td>-0.078718</td>\n",
              "      <td>0.101205</td>\n",
              "      <td>0.041159</td>\n",
              "      <td>0.031474</td>\n",
              "      <td>-0.059087</td>\n",
              "      <td>0.044817</td>\n",
              "      <td>-2.419000</td>\n",
              "    </tr>\n",
              "    <tr>\n",
              "      <th>floors</th>\n",
              "      <td>0.089044</td>\n",
              "      <td>-0.719756</td>\n",
              "      <td>1.148653</td>\n",
              "      <td>0.091445</td>\n",
              "      <td>2.204571</td>\n",
              "      <td>-0.013417</td>\n",
              "      <td>0.090672</td>\n",
              "      <td>-0.239037</td>\n",
              "      <td>-1.738327</td>\n",
              "      <td>-0.500276</td>\n",
              "      <td>-0.167803</td>\n",
              "      <td>-0.142073</td>\n",
              "      <td>0.184997</td>\n",
              "      <td>0.293806</td>\n",
              "      <td>0.180872</td>\n",
              "    </tr>\n",
              "    <tr>\n",
              "      <th>view</th>\n",
              "      <td>0.058901</td>\n",
              "      <td>-0.034966</td>\n",
              "      <td>-0.224723</td>\n",
              "      <td>-0.037883</td>\n",
              "      <td>-0.013417</td>\n",
              "      <td>1.076588</td>\n",
              "      <td>-0.005669</td>\n",
              "      <td>-0.088745</td>\n",
              "      <td>0.267894</td>\n",
              "      <td>0.111807</td>\n",
              "      <td>-0.094059</td>\n",
              "      <td>0.073516</td>\n",
              "      <td>0.062074</td>\n",
              "      <td>-0.221470</td>\n",
              "      <td>0.040873</td>\n",
              "    </tr>\n",
              "    <tr>\n",
              "      <th>condition</th>\n",
              "      <td>-0.038941</td>\n",
              "      <td>-0.178406</td>\n",
              "      <td>-0.204739</td>\n",
              "      <td>0.035874</td>\n",
              "      <td>0.090672</td>\n",
              "      <td>-0.005669</td>\n",
              "      <td>1.273299</td>\n",
              "      <td>-0.035028</td>\n",
              "      <td>0.224236</td>\n",
              "      <td>0.597905</td>\n",
              "      <td>0.162090</td>\n",
              "      <td>0.057846</td>\n",
              "      <td>-0.035431</td>\n",
              "      <td>0.116673</td>\n",
              "      <td>-0.083101</td>\n",
              "    </tr>\n",
              "    <tr>\n",
              "      <th>grade</th>\n",
              "      <td>0.288770</td>\n",
              "      <td>-0.207940</td>\n",
              "      <td>-0.784864</td>\n",
              "      <td>0.015989</td>\n",
              "      <td>-0.239037</td>\n",
              "      <td>-0.088745</td>\n",
              "      <td>-0.035028</td>\n",
              "      <td>2.914574</td>\n",
              "      <td>-0.563744</td>\n",
              "      <td>-0.622098</td>\n",
              "      <td>0.096078</td>\n",
              "      <td>-0.325245</td>\n",
              "      <td>0.404494</td>\n",
              "      <td>-0.792604</td>\n",
              "      <td>-0.062502</td>\n",
              "    </tr>\n",
              "    <tr>\n",
              "      <th>sqft_above</th>\n",
              "      <td>-0.006068</td>\n",
              "      <td>0.917385</td>\n",
              "      <td>-4.279242</td>\n",
              "      <td>-0.078718</td>\n",
              "      <td>-1.738327</td>\n",
              "      <td>0.267894</td>\n",
              "      <td>0.224236</td>\n",
              "      <td>-0.563744</td>\n",
              "      <td>6.344311</td>\n",
              "      <td>0.007856</td>\n",
              "      <td>0.066659</td>\n",
              "      <td>0.347530</td>\n",
              "      <td>-0.700974</td>\n",
              "      <td>-0.732903</td>\n",
              "      <td>-0.046250</td>\n",
              "    </tr>\n",
              "    <tr>\n",
              "      <th>yr_built</th>\n",
              "      <td>0.139064</td>\n",
              "      <td>-1.015895</td>\n",
              "      <td>0.440522</td>\n",
              "      <td>0.101205</td>\n",
              "      <td>-0.500276</td>\n",
              "      <td>0.111807</td>\n",
              "      <td>0.597905</td>\n",
              "      <td>-0.622098</td>\n",
              "      <td>0.007856</td>\n",
              "      <td>2.546794</td>\n",
              "      <td>0.223748</td>\n",
              "      <td>0.333441</td>\n",
              "      <td>-0.562838</td>\n",
              "      <td>0.138746</td>\n",
              "      <td>-0.041763</td>\n",
              "    </tr>\n",
              "    <tr>\n",
              "      <th>zipcode</th>\n",
              "      <td>0.094525</td>\n",
              "      <td>0.054823</td>\n",
              "      <td>-0.205121</td>\n",
              "      <td>0.041159</td>\n",
              "      <td>-0.167803</td>\n",
              "      <td>-0.094059</td>\n",
              "      <td>0.162090</td>\n",
              "      <td>0.096078</td>\n",
              "      <td>0.066659</td>\n",
              "      <td>0.223748</td>\n",
              "      <td>1.686344</td>\n",
              "      <td>-0.332798</td>\n",
              "      <td>0.775751</td>\n",
              "      <td>0.177066</td>\n",
              "      <td>-0.042383</td>\n",
              "    </tr>\n",
              "    <tr>\n",
              "      <th>lat</th>\n",
              "      <td>0.068737</td>\n",
              "      <td>-0.031561</td>\n",
              "      <td>-0.176331</td>\n",
              "      <td>0.031474</td>\n",
              "      <td>-0.142073</td>\n",
              "      <td>0.073516</td>\n",
              "      <td>0.057846</td>\n",
              "      <td>-0.325245</td>\n",
              "      <td>0.347530</td>\n",
              "      <td>0.333441</td>\n",
              "      <td>-0.332798</td>\n",
              "      <td>1.188283</td>\n",
              "      <td>-0.140257</td>\n",
              "      <td>-0.086046</td>\n",
              "      <td>0.015262</td>\n",
              "    </tr>\n",
              "    <tr>\n",
              "      <th>long</th>\n",
              "      <td>0.025546</td>\n",
              "      <td>-0.007922</td>\n",
              "      <td>0.346150</td>\n",
              "      <td>-0.059087</td>\n",
              "      <td>0.184997</td>\n",
              "      <td>0.062074</td>\n",
              "      <td>-0.035431</td>\n",
              "      <td>0.404494</td>\n",
              "      <td>-0.700974</td>\n",
              "      <td>-0.562838</td>\n",
              "      <td>0.775751</td>\n",
              "      <td>-0.140257</td>\n",
              "      <td>1.970865</td>\n",
              "      <td>-0.377045</td>\n",
              "      <td>-0.247419</td>\n",
              "    </tr>\n",
              "    <tr>\n",
              "      <th>sqft_living15</th>\n",
              "      <td>0.071368</td>\n",
              "      <td>-0.026063</td>\n",
              "      <td>-0.977618</td>\n",
              "      <td>0.044817</td>\n",
              "      <td>0.293806</td>\n",
              "      <td>-0.221470</td>\n",
              "      <td>0.116673</td>\n",
              "      <td>-0.792604</td>\n",
              "      <td>-0.732903</td>\n",
              "      <td>0.138746</td>\n",
              "      <td>0.177066</td>\n",
              "      <td>-0.086046</td>\n",
              "      <td>-0.377045</td>\n",
              "      <td>2.979101</td>\n",
              "      <td>-0.247388</td>\n",
              "    </tr>\n",
              "    <tr>\n",
              "      <th>sqft_lot15</th>\n",
              "      <td>0.013863</td>\n",
              "      <td>0.103250</td>\n",
              "      <td>0.014944</td>\n",
              "      <td>-2.419000</td>\n",
              "      <td>0.180872</td>\n",
              "      <td>0.040873</td>\n",
              "      <td>-0.083101</td>\n",
              "      <td>-0.062502</td>\n",
              "      <td>-0.046250</td>\n",
              "      <td>-0.041763</td>\n",
              "      <td>-0.042383</td>\n",
              "      <td>0.015262</td>\n",
              "      <td>-0.247419</td>\n",
              "      <td>-0.247388</td>\n",
              "      <td>3.151752</td>\n",
              "    </tr>\n",
              "  </tbody>\n",
              "</table>\n",
              "</div>"
            ],
            "text/plain": [
              "               bedrooms  bathrooms  ...  sqft_living15  sqft_lot15\n",
              "bedrooms       1.715620  -0.378646  ...       0.071368    0.013863\n",
              "bathrooms     -0.378646   3.121655  ...      -0.026063    0.103250\n",
              "sqft_living   -1.123533  -2.000315  ...      -0.977618    0.014944\n",
              "sqft_lot       0.039175   0.033728  ...       0.044817   -2.419000\n",
              "floors         0.089044  -0.719756  ...       0.293806    0.180872\n",
              "view           0.058901  -0.034966  ...      -0.221470    0.040873\n",
              "condition     -0.038941  -0.178406  ...       0.116673   -0.083101\n",
              "grade          0.288770  -0.207940  ...      -0.792604   -0.062502\n",
              "sqft_above    -0.006068   0.917385  ...      -0.732903   -0.046250\n",
              "yr_built       0.139064  -1.015895  ...       0.138746   -0.041763\n",
              "zipcode        0.094525   0.054823  ...       0.177066   -0.042383\n",
              "lat            0.068737  -0.031561  ...      -0.086046    0.015262\n",
              "long           0.025546  -0.007922  ...      -0.377045   -0.247419\n",
              "sqft_living15  0.071368  -0.026063  ...       2.979101   -0.247388\n",
              "sqft_lot15     0.013863   0.103250  ...      -0.247388    3.151752\n",
              "\n",
              "[15 rows x 15 columns]"
            ]
          },
          "metadata": {
            "tags": []
          },
          "execution_count": 164
        }
      ]
    },
    {
      "cell_type": "markdown",
      "metadata": {
        "id": "fsDKTwFDFvJ_",
        "colab_type": "text"
      },
      "source": [
        ""
      ]
    },
    {
      "cell_type": "markdown",
      "metadata": {
        "id": "vTbdjSrhVIiT",
        "colab_type": "text"
      },
      "source": [
        "## 7. Implementing the Solution"
      ]
    },
    {
      "cell_type": "markdown",
      "metadata": {
        "id": "y_YeDFsKi7fF",
        "colab_type": "text"
      },
      "source": [
        "### Multilinear & Lasso Regression"
      ]
    },
    {
      "cell_type": "code",
      "metadata": {
        "id": "B9OQVIT4i1mK",
        "colab_type": "code",
        "colab": {}
      },
      "source": [
        "# Creating the features to be used in the model\n",
        "\n",
        "X = house_df[['bedrooms', 'bathrooms', 'sqft_living',\n",
        "       'sqft_lot', 'floors', 'view', 'condition', 'grade',\n",
        "       'sqft_above', 'sqft_basement', 'yr_built', 'yr_renovated', 'zipcode',\n",
        "       'lat', 'long', 'sqft_living15', 'sqft_lot15']].values\n",
        "y = house_df['price'].values\n",
        "\n",
        "scaler = StandardScaler()\n",
        "scaler.fit(X)\n",
        "X = scaler.transform(X)"
      ],
      "execution_count": 0,
      "outputs": []
    },
    {
      "cell_type": "code",
      "metadata": {
        "id": "fmJHRDo-mbvq",
        "colab_type": "code",
        "colab": {
          "base_uri": "https://localhost:8080/",
          "height": 151
        },
        "outputId": "113be7de-a840-4033-f8c5-9da1b98b38e0"
      },
      "source": [
        "# Creating lasso object\n",
        "# \n",
        "lasso = linear_model.Lasso() \n",
        "\n",
        "# Fitting the models\n",
        "# \n",
        "lasso.fit(X, y) \n",
        "\n",
        "# Print scores, MSE, and coefficients\n",
        "# \n",
        "print(\"lasso score:\", lasso.score(X, y)) \n",
        "print(\"lasso MSE:\", mean_squared_error(y, lasso.predict(X))) \n",
        "print(\"lasso RMSE: \", np.sqrt(mean_squared_error(y, lasso.predict(X))))\n",
        "print(\"lasso coef:\", lasso.coef_)"
      ],
      "execution_count": 166,
      "outputs": [
        {
          "output_type": "stream",
          "text": [
            "lasso score: 0.6792510799816498\n",
            "lasso MSE: 17178997146.743687\n",
            "lasso RMSE:  131068.67339964835\n",
            "lasso coef: [-12192.78585149  19089.65331429 133179.43275683   3133.67182719\n",
            "  16382.6310969   15507.66453765  18766.62603993  87585.10157106\n",
            " -57016.99003663 -34310.52403951 -63209.6713547       0.\n",
            " -17567.57661622  79576.0718123  -12348.15189675  26182.42151222\n",
            " -12140.96665904]\n"
          ],
          "name": "stdout"
        }
      ]
    },
    {
      "cell_type": "code",
      "metadata": {
        "id": "6jYq_HOQ_DGL",
        "colab_type": "code",
        "colab": {
          "base_uri": "https://localhost:8080/",
          "height": 269
        },
        "outputId": "57da2f08-8292-4f0c-8ae6-7c3532b1e517"
      },
      "source": [
        "X_train, X_test, y_train, y_test = train_test_split(X, y, test_size=0.25, random_state=101)\n",
        "parameters = {'alpha': np.concatenate((np.arange(0.1,2,0.1), np.arange(2, 5, 0.5), np.arange(5, 25, 1)))}\n",
        "\n",
        "linear = linear_model.LinearRegression()\n",
        "lasso = linear_model.Lasso() \n",
        "gridlasso = GridSearchCV(lasso, parameters, scoring ='r2') \n",
        "\n",
        "# Fitting models and print the best parameters, R-squared scores, MSE, and coefficients\n",
        "gridlasso.fit(X_train, y_train) \n",
        "linear.fit(X_train, y_train) \n",
        "print(\"lasso best parameters:\", gridlasso.best_params_) \n",
        "print(\"lasso score:\", gridlasso.score(X_test, y_test))\n",
        "print(\"linear score:\", linear.score(X_test, y_test)) \n",
        "print(\"lasso MSE:\", mean_squared_error(y_test, gridlasso.predict(X_test)))\n",
        "print(\"linear MSE:\", mean_squared_error(y_test, linear.predict(X_test))) \n",
        "print(\"lasso best estimator coef:\", gridlasso.best_estimator_.coef_)\n",
        "print(\"linear coef:\", linear.coef_)"
      ],
      "execution_count": 167,
      "outputs": [
        {
          "output_type": "stream",
          "text": [
            "lasso best parameters: {'alpha': 11.0}\n",
            "lasso score: 0.681874108208521\n",
            "linear score: 0.6818708961984455\n",
            "lasso MSE: 17617622405.209465\n",
            "linear MSE: 17617800284.414307\n",
            "lasso best estimator coef: [-12168.0652704   17269.73933661 109509.43812509   3098.1403826\n",
            "  18057.1591469   15920.67144231  18552.57179102  86217.97652853\n",
            " -35286.76585173 -21926.19429914 -63469.44064587      0.\n",
            " -17093.16056338  79454.89283547 -11933.40046214  27949.44130136\n",
            " -12622.35750821]\n",
            "linear coef: [-1.21788603e+04  1.73339916e+04  3.89316275e+04  3.14589679e+03\n",
            "  1.80598759e+04  1.59262982e+04  1.85639534e+04  8.61969923e+04\n",
            "  3.23466553e+04  1.50624834e+04 -6.34947031e+04 -1.45519152e-11\n",
            " -1.71216661e+04  7.94697148e+04 -1.19619124e+04  2.80093849e+04\n",
            " -1.26690475e+04]\n"
          ],
          "name": "stdout"
        }
      ]
    },
    {
      "cell_type": "code",
      "metadata": {
        "id": "jD0TuSsNsTBG",
        "colab_type": "code",
        "colab": {
          "base_uri": "https://localhost:8080/",
          "height": 458
        },
        "outputId": "6344a274-8fe9-49bf-a3a5-7cd7577559aa"
      },
      "source": [
        "coefsLasso = [] \n",
        "\n",
        "# Building Lasso for 200 values of alpha and write the coefficients into array\n",
        "# \n",
        "alphasLasso = np.arange (0, 20, 0.1) \n",
        "for i in range(200):\n",
        "    lasso = linear_model.Lasso(alpha=alphasLasso[i])\n",
        "    lasso.fit(X_train, y_train)\n",
        "    coefsLasso.append(lasso.coef_) \n",
        "\n",
        "# Building Lasso coefficient plots\n",
        "# \n",
        "plt.figure(figsize = (16,7))\n",
        "\n",
        "plt.subplot(121)\n",
        "plt.plot(alphasLasso, coefsLasso)\n",
        "plt.title('Lasso coefficients')\n",
        "plt.xlabel('alpha')\n",
        "plt.ylabel('coefs')\n",
        "\n",
        "plt.show()"
      ],
      "execution_count": 168,
      "outputs": [
        {
          "output_type": "display_data",
          "data": {
            "image/png": "[encoded data removed]",
            "text/plain": [
              "<Figure size 1152x504 with 1 Axes>"
            ]
          },
          "metadata": {
            "tags": [],
            "needs_background": "light"
          }
        }
      ]
    },
    {
      "cell_type": "markdown",
      "metadata": {
        "id": "SfZw_wBh8HFE",
        "colab_type": "text"
      },
      "source": [
        "**We can see most of the values are being reduced to zero, but only one of the turned into a zero. The year renovated column has become zero meaning it has no effect on determining the price of the house**"
      ]
    },
    {
      "cell_type": "markdown",
      "metadata": {
        "id": "dxl3JCD1rNEY",
        "colab_type": "text"
      },
      "source": [
        "### Quantile Regression"
      ]
    },
    {
      "cell_type": "code",
      "metadata": {
        "id": "9GUx6pX2rMs1",
        "colab_type": "code",
        "colab": {
          "base_uri": "https://localhost:8080/",
          "height": 370
        },
        "outputId": "343160e3-3037-472f-db49-9f2fd6c18655"
      },
      "source": [
        "liv = house_df['sqft_living'].values\n",
        "y = house_df['price'].values\n",
        "\n",
        "model = smf.quantreg('y ~ liv', house_df)\n",
        "\n",
        "res = model.fit()\n",
        "\n",
        "print(res.summary())\n",
        "print(\"*****************************************************************\")\n",
        "print(res.params)\n",
        "\n"
      ],
      "execution_count": 169,
      "outputs": [
        {
          "output_type": "stream",
          "text": [
            "                         QuantReg Regression Results                          \n",
            "==============================================================================\n",
            "Dep. Variable:                      y   Pseudo R-squared:               0.2014\n",
            "Model:                       QuantReg   Bandwidth:                   3.138e+04\n",
            "Method:                 Least Squares   Sparsity:                    4.635e+05\n",
            "Date:                Sun, 07 Jun 2020   No. Observations:                18700\n",
            "Time:                        13:59:30   Df Residuals:                    18698\n",
            "                                        Df Model:                            1\n",
            "==============================================================================\n",
            "                 coef    std err          t      P>|t|      [0.025      0.975]\n",
            "------------------------------------------------------------------------------\n",
            "Intercept    9.78e+04   4786.210     20.433      0.000    8.84e+04    1.07e+05\n",
            "liv          187.5926      2.297     81.685      0.000     183.091     192.094\n",
            "==============================================================================\n",
            "\n",
            "The condition number is large, 5.89e+03. This might indicate that there are\n",
            "strong multicollinearity or other numerical problems.\n",
            "*****************************************************************\n",
            "Intercept    97798.148160\n",
            "liv            187.592593\n",
            "dtype: float64\n"
          ],
          "name": "stdout"
        }
      ]
    },
    {
      "cell_type": "markdown",
      "metadata": {
        "id": "imADuHigs5RD",
        "colab_type": "text"
      },
      "source": [
        "### Ridge Regression\n"
      ]
    },
    {
      "cell_type": "code",
      "metadata": {
        "id": "n4ezyvyuwdwz",
        "colab_type": "code",
        "colab": {
          "base_uri": "https://localhost:8080/",
          "height": 50
        },
        "outputId": "0c4174b8-867f-4491-f6dd-c9cf09490a40"
      },
      "source": [
        "# cross validation to find the best parameters to use\n",
        "ridge = Ridge(normalize=True)\n",
        "search = GridSearchCV(estimator=ridge,param_grid={'alpha':np.logspace(-5,2,8)},scoring='neg_mean_squared_error',n_jobs=1,refit=True,cv=10)\n",
        "\n",
        "search.fit(X,y)\n",
        "print(search.best_params_)\n",
        "abs(search.best_score_) "
      ],
      "execution_count": 171,
      "outputs": [
        {
          "output_type": "stream",
          "text": [
            "{'alpha': 0.01}\n"
          ],
          "name": "stdout"
        },
        {
          "output_type": "execute_result",
          "data": {
            "text/plain": [
              "17370305199.12654"
            ]
          },
          "metadata": {
            "tags": []
          },
          "execution_count": 171
        }
      ]
    },
    {
      "cell_type": "code",
      "metadata": {
        "id": "OsmhYnY6xW_H",
        "colab_type": "code",
        "colab": {
          "base_uri": "https://localhost:8080/",
          "height": 34
        },
        "outputId": "b56c8095-0529-4339-be12-e990526f11c2"
      },
      "source": [
        "ridge = Ridge(normalize=True,alpha=0.01)\n",
        "ridge.fit(X,y)\n",
        "ridge_model = (mean_squared_error(y_true=y,y_pred=ridge.predict(X)))\n",
        "print(ridge_model)"
      ],
      "execution_count": 172,
      "outputs": [
        {
          "output_type": "stream",
          "text": [
            "17182143469.3255\n"
          ],
          "name": "stdout"
        }
      ]
    },
    {
      "cell_type": "markdown",
      "metadata": {
        "id": "mmhUUCWaxy6o",
        "colab_type": "text"
      },
      "source": [
        "### Elastic Regression"
      ]
    },
    {
      "cell_type": "code",
      "metadata": {
        "id": "cN5aXpFMx32I",
        "colab_type": "code",
        "colab": {
          "base_uri": "https://localhost:8080/",
          "height": 50
        },
        "outputId": "ed06156c-9190-42fa-e914-0c2dec85d0ad"
      },
      "source": [
        "# cross validation to find the best parameters to use\n",
        "elastic=ElasticNet(normalize=True)\n",
        "search1=GridSearchCV(estimator=elastic,param_grid={'alpha':np.logspace(-5,2,8),'l1_ratio':[.2,.4,.6,.8]},\n",
        "                    scoring='neg_mean_squared_error',n_jobs=1,refit=True,cv=10)\n",
        "search1.fit(X,y)\n",
        "print(search1.best_params_)\n",
        "abs(search1.best_score_)"
      ],
      "execution_count": 173,
      "outputs": [
        {
          "output_type": "stream",
          "text": [
            "{'alpha': 1e-05, 'l1_ratio': 0.8}\n"
          ],
          "name": "stdout"
        },
        {
          "output_type": "execute_result",
          "data": {
            "text/plain": [
              "17388209967.006035"
            ]
          },
          "metadata": {
            "tags": []
          },
          "execution_count": 173
        }
      ]
    },
    {
      "cell_type": "code",
      "metadata": {
        "id": "dP9j-1tmzzrW",
        "colab_type": "code",
        "colab": {
          "base_uri": "https://localhost:8080/",
          "height": 34
        },
        "outputId": "f82e01a7-1411-4789-af92-3fa3a8b7c9c4"
      },
      "source": [
        "elastic=ElasticNet(normalize=True,alpha=1e-05,l1_ratio=0.8)\n",
        "elastic.fit(X,y)\n",
        "elastic_model=(mean_squared_error(y_true=y,y_pred=elastic.predict(X)))\n",
        "print(elastic_model)"
      ],
      "execution_count": 174,
      "outputs": [
        {
          "output_type": "stream",
          "text": [
            "17217869981.979385\n"
          ],
          "name": "stdout"
        }
      ]
    },
    {
      "cell_type": "markdown",
      "metadata": {
        "id": "77DFIzVx0i5v",
        "colab_type": "text"
      },
      "source": [
        "### Heteroskedasticity"
      ]
    },
    {
      "cell_type": "code",
      "metadata": {
        "id": "8iCm_-bP06wK",
        "colab_type": "code",
        "colab": {
          "base_uri": "https://localhost:8080/",
          "height": 84
        },
        "outputId": "6649bb48-e95d-4f7c-b8af-101bf7bab76c"
      },
      "source": [
        "# We now create the residual by substracting the test value from the predicted \n",
        "# value for each row in our dataset\n",
        "\n",
        "residual_linear = np.subtract(linear.predict(X_test), y_test)\n",
        "\n",
        "residual_lasso = np.subtract(gridlasso.predict(X_test), y_test)\n",
        "\n",
        "residual_ridge = np.subtract(ridge.predict(X_test), y_test)\n",
        "\n",
        "residual_elastic = np.subtract(elastic.predict(X_test), y_test)\n",
        "\n",
        "\n",
        "# Let's find out the mean of our models residuals:\n",
        "\n",
        "print('linear residual:', residual_linear.mean())\n",
        "print('lasso residual:', residual_lasso.mean())\n",
        "print('ridge residual:', residual_ridge.mean())\n",
        "print('elastic residual:', residual_elastic.mean())\n"
      ],
      "execution_count": 175,
      "outputs": [
        {
          "output_type": "stream",
          "text": [
            "linear residual: -4565.009965483559\n",
            "lasso residual: -4564.962245028195\n",
            "ridge residual: -3396.9966052928844\n",
            "elastic residual: -3260.707800840972\n"
          ],
          "name": "stdout"
        }
      ]
    },
    {
      "cell_type": "code",
      "metadata": {
        "id": "W9IwLNV34UJa",
        "colab_type": "code",
        "colab": {
          "base_uri": "https://localhost:8080/",
          "height": 67
        },
        "outputId": "25947e2d-2f3d-4614-9c8b-c369e5aebabb"
      },
      "source": [
        "test_result, p_value = sp.stats.bartlett(linear.predict(X_test), residual_linear)\n",
        "\n",
        "# To interpret the results we must also compute a critical value of the chi squared distribution\n",
        "degree_of_freedom = len(linear.predict(X_test))-1\n",
        "probability = 1 - p_value\n",
        "print('Linear model')\n",
        "critical_value = sp.stats.chi2.ppf(probability, degree_of_freedom)\n",
        "print(critical_value)\n",
        "\n",
        "# If the test_result is greater than the critical value, then we reject our null\n",
        "# hypothesis. This would mean that there are patterns to the variance of the data\n",
        "\n",
        "# Otherwise, we can identify no patterns, and we accept the null hypothesis that \n",
        "# the variance is homogeneous across our data\n",
        "\n",
        "if (test_result > critical_value):\n",
        "  print('the variances are unequal, and the model should be reassessed')\n",
        "else:\n",
        "  print('the variances are homogeneous!')"
      ],
      "execution_count": 176,
      "outputs": [
        {
          "output_type": "stream",
          "text": [
            "Linear model\n",
            "inf\n",
            "the variances are homogeneous!\n"
          ],
          "name": "stdout"
        }
      ]
    },
    {
      "cell_type": "code",
      "metadata": {
        "id": "3mL0hOoG5PK9",
        "colab_type": "code",
        "colab": {
          "base_uri": "https://localhost:8080/",
          "height": 67
        },
        "outputId": "f941baf9-78b5-4c51-bfd2-5fc78474d96f"
      },
      "source": [
        "test_result, p_value = sp.stats.bartlett(lasso.predict(X_test), residual_lasso)\n",
        "\n",
        "# To interpret the results we must also compute a critical value of the chi squared distribution\n",
        "degree_of_freedom = len(lasso.predict(X_test))-1\n",
        "probability = 1 - p_value\n",
        "print('Lasso model')\n",
        "critical_value = sp.stats.chi2.ppf(probability, degree_of_freedom)\n",
        "print(critical_value)\n",
        "\n",
        "if (test_result > critical_value):\n",
        "  print('the variances are unequal, and the model should be reassessed')\n",
        "else:\n",
        "  print('the variances are homogeneous!')"
      ],
      "execution_count": 177,
      "outputs": [
        {
          "output_type": "stream",
          "text": [
            "Lasso model\n",
            "inf\n",
            "the variances are homogeneous!\n"
          ],
          "name": "stdout"
        }
      ]
    },
    {
      "cell_type": "code",
      "metadata": {
        "id": "ejVv0MzO5dWj",
        "colab_type": "code",
        "colab": {
          "base_uri": "https://localhost:8080/",
          "height": 67
        },
        "outputId": "a4353651-de0e-4acf-8f97-b7514d76c47f"
      },
      "source": [
        "test_result, p_value = sp.stats.bartlett(ridge.predict(X_test), residual_ridge)\n",
        "\n",
        "# To interpret the results we must also compute a critical value of the chi squared distribution\n",
        "degree_of_freedom = len(ridge.predict(X_test))-1\n",
        "probability = 1 - p_value\n",
        "print('Ridge model')\n",
        "critical_value = sp.stats.chi2.ppf(probability, degree_of_freedom)\n",
        "print(critical_value)\n",
        "\n",
        "if (test_result > critical_value):\n",
        "  print('the variances are unequal, and the model should be reassessed')\n",
        "else:\n",
        "  print('the variances are homogeneous!')"
      ],
      "execution_count": 178,
      "outputs": [
        {
          "output_type": "stream",
          "text": [
            "Ridge model\n",
            "inf\n",
            "the variances are homogeneous!\n"
          ],
          "name": "stdout"
        }
      ]
    },
    {
      "cell_type": "code",
      "metadata": {
        "id": "YNzd0Mvd5gVh",
        "colab_type": "code",
        "colab": {
          "base_uri": "https://localhost:8080/",
          "height": 67
        },
        "outputId": "b31cd822-8e61-447e-8aa0-8c124319dbe8"
      },
      "source": [
        "test_result, p_value = sp.stats.bartlett(elastic.predict(X_test), residual_elastic)\n",
        "\n",
        "# To interpret the results we must also compute a critical value of the chi squared distribution\n",
        "degree_of_freedom = len(elastic.predict(X_test))-1\n",
        "probability = 1 - p_value\n",
        "print('Elastic model')\n",
        "critical_value = sp.stats.chi2.ppf(probability, degree_of_freedom)\n",
        "print(critical_value)\n",
        "\n",
        "if (test_result > critical_value):\n",
        "  print('the variances are unequal, and the model should be reassessed')\n",
        "else:\n",
        "  print('the variances are homogeneous!')"
      ],
      "execution_count": 179,
      "outputs": [
        {
          "output_type": "stream",
          "text": [
            "Elastic model\n",
            "inf\n",
            "the variances are homogeneous!\n"
          ],
          "name": "stdout"
        }
      ]
    },
    {
      "cell_type": "markdown",
      "metadata": {
        "id": "lQ2G4ZPDVOXE",
        "colab_type": "text"
      },
      "source": [
        "## 8. Challenging the solution"
      ]
    },
    {
      "cell_type": "markdown",
      "metadata": {
        "id": "jWVGKGuiYMWg",
        "colab_type": "text"
      },
      "source": [
        "> The easy solution is nice because it is, well, easy, but you should never allow those results to hold the day. You should always be thinking of ways to challenge the results, especially if those results comport with your prior expectation.\n",
        "\n",
        "\n",
        "\n",
        "\n"
      ]
    },
    {
      "cell_type": "code",
      "metadata": {
        "id": "j3x3SXZ4XT_L",
        "colab_type": "code",
        "colab": {}
      },
      "source": [
        "# Reviewing the Solution \n",
        "# After trying a total of five models on the data we can see the best model is ridge regression model\n",
        "# This is because it has the lowest MSE score"
      ],
      "execution_count": 0,
      "outputs": []
    },
    {
      "cell_type": "markdown",
      "metadata": {
        "id": "xrmHVMVsVS--",
        "colab_type": "text"
      },
      "source": [
        "## 9. Follow up questions"
      ]
    },
    {
      "cell_type": "markdown",
      "metadata": {
        "id": "pth2qSWhuBIy",
        "colab_type": "text"
      },
      "source": [
        "> At this point, we can refine our question or collect new data, all in an iterative process to get at the truth.\n",
        "\n"
      ]
    },
    {
      "cell_type": "markdown",
      "metadata": {
        "id": "HPQviDmNtta8",
        "colab_type": "text"
      },
      "source": [
        "### a). Did we have the right data?"
      ]
    },
    {
      "cell_type": "markdown",
      "metadata": {
        "id": "trNQkCfGDPu8",
        "colab_type": "text"
      },
      "source": [
        "YES"
      ]
    },
    {
      "cell_type": "markdown",
      "metadata": {
        "id": "qjFHK1CKty7o",
        "colab_type": "text"
      },
      "source": [
        "### b). Do we need other data to answer our question?"
      ]
    },
    {
      "cell_type": "markdown",
      "metadata": {
        "id": "Zc9YnlPqDS4-",
        "colab_type": "text"
      },
      "source": [
        "No. I believe this data is sufficient"
      ]
    },
    {
      "cell_type": "markdown",
      "metadata": {
        "id": "HSsicSdvt4Zs",
        "colab_type": "text"
      },
      "source": [
        "### c). Did we have the right question?"
      ]
    },
    {
      "cell_type": "markdown",
      "metadata": {
        "id": "O_N8dV_rDbVj",
        "colab_type": "text"
      },
      "source": [
        "Yes"
      ]
    }
  ]
}